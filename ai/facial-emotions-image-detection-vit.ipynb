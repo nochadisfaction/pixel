{
 "metadata": {
  "kernelspec": {
   "language": "python",
   "display_name": "Python 3",
   "name": "python3"
  },
  "language_info": {
   "name": "python",
   "version": "3.10.12",
   "mimetype": "text/x-python",
   "codemirror_mode": {
    "name": "ipython",
    "version": 3
   },
   "pygments_lexer": "ipython3",
   "nbconvert_exporter": "python",
   "file_extension": ".py"
  },
  "kaggle": {
   "accelerator": "gpu",
   "dataSources": [
    {
     "sourceId": 4959552,
     "sourceType": "datasetVersion",
     "datasetId": 2876250
    }
   ],
   "dockerImageVersionId": 30559,
   "isInternetEnabled": true,
   "language": "python",
   "sourceType": "notebook",
   "isGpuEnabled": true
  }
 },
 "nbformat_minor": 4,
 "nbformat": 4,
 "cells": [
  {
   "cell_type": "markdown",
   "source": "# Import libraries, load and transform data",
   "metadata": {}
  },
  {
   "cell_type": "code",
   "source": [
    "# Install necessary Python packages using pip\n",
    "\n",
    "# Use the 'pip' command to install packages\n",
    "# The '-q' flag stands for 'quiet,' which means it will suppress most output, making the installation process less verbose\n",
    "# We're installing the following packages:\n",
    "# - 'evaluate': This package is likely used for evaluation purposes, but the specific functionality is not clear from this line alone\n",
    "# - 'transformers': This package is commonly used for natural language processing tasks, such as working with pre-trained language models like BERT or GPT\n",
    "# - 'datasets': This package provides easy access to various datasets commonly used in machine learning and natural language processing tasks\n",
    "# - 'mlflow': MLflow is an open-source platform for managing the end-to-end machine learning lifecycle, including tracking experiments, packaging code into reproducible runs, and sharing and deploying models\n",
    "\n",
    "# Note: Before running this code, make sure you have Python and pip installed on your system.\n",
    "# Also, ensure you have an internet connection since pip will download and install these packages from PyPI (Python Package Index).\n",
    "!pip install -U -q evaluate==0.4.3 transformers datasets>=2.14.5 accelerate>=0.27 2>/dev/null\n",
    "\n",
    "import evaluate\n",
    "\n",
    "print(evaluate.__version__)"
   ],
   "metadata": {
    "execution": {
     "iopub.status.busy": "2024-11-23T11:20:17.449967Z",
     "iopub.execute_input": "2024-11-23T11:20:17.450281Z",
     "iopub.status.idle": "2024-11-23T11:21:03.476774Z",
     "shell.execute_reply.started": "2024-11-23T11:20:17.450249Z",
     "shell.execute_reply": "2024-11-23T11:21:03.475705Z"
    },
    "trusted": true
   },
   "outputs": [
    {
     "name": "stderr",
     "text": "/opt/conda/lib/python3.10/site-packages/scipy/__init__.py:146: UserWarning: A NumPy version >=1.16.5 and <1.23.0 is required for this version of SciPy (detected version 1.23.5\n  warnings.warn(f\"A NumPy version >={np_minversion} and <{np_maxversion}\"\n/opt/conda/lib/python3.10/site-packages/torchvision/datapoints/__init__.py:12: UserWarning: The torchvision.datapoints and torchvision.transforms.v2 namespaces are still Beta. While we do not expect major breaking changes, some APIs may still change according to user feedback. Please submit any feedback you may have in this issue: https://github.com/pytorch/vision/issues/6753, and you can also check out https://github.com/pytorch/vision/issues/7319 to learn more about the APIs that we suspect might involve future changes. You can silence this warning by calling torchvision.disable_beta_transforms_warning().\n  warnings.warn(_BETA_TRANSFORMS_WARNING)\n/opt/conda/lib/python3.10/site-packages/torchvision/transforms/v2/__init__.py:54: UserWarning: The torchvision.datapoints and torchvision.transforms.v2 namespaces are still Beta. While we do not expect major breaking changes, some APIs may still change according to user feedback. Please submit any feedback you may have in this issue: https://github.com/pytorch/vision/issues/6753, and you can also check out https://github.com/pytorch/vision/issues/7319 to learn more about the APIs that we suspect might involve future changes. You can silence this warning by calling torchvision.disable_beta_transforms_warning().\n  warnings.warn(_BETA_TRANSFORMS_WARNING)\n",
     "output_type": "stream"
    },
    {
     "name": "stdout",
     "text": "0.4.3\n",
     "output_type": "stream"
    }
   ],
   "execution_count": 1
  },
  {
   "cell_type": "code",
   "source": [
    "# Importing necessary libraries and modules\n",
    "import warnings  # Import the 'warnings' module for handling warnings\n",
    "\n",
    "warnings.filterwarnings(\"ignore\")  # Ignore warnings during execution\n",
    "\n",
    "import gc  # Import the 'gc' module for garbage collection\n",
    "import numpy as np  # Import NumPy for numerical operations\n",
    "import pandas as pd  # Import Pandas for data manipulation\n",
    "import itertools  # Import 'itertools' for iterators and looping\n",
    "from collections import Counter  # Import 'Counter' for counting elements\n",
    "import matplotlib.pyplot as plt  # Import Matplotlib for data visualization\n",
    "from sklearn.metrics import (  # Import various metrics from scikit-learn\n",
    "    accuracy_score,  # For calculating accuracy\n",
    "    roc_auc_score,  # For ROC AUC score\n",
    "    confusion_matrix,  # For confusion matrix\n",
    "    classification_report,  # For classification report\n",
    "    f1_score,  # For F1 score\n",
    ")\n",
    "\n",
    "# Import custom modules and classes\n",
    "from imblearn.over_sampling import RandomOverSampler  # import RandomOverSampler\n",
    "import accelerate  # Import the 'accelerate' module\n",
    "import evaluate  # Import the 'evaluate' module\n",
    "from datasets import (\n",
    "    Dataset,\n",
    "    Image,\n",
    "    ClassLabel,\n",
    ")  # Import custom 'Dataset', 'ClassLabel', and 'Image' classes\n",
    "from transformers import (  # Import various modules from the Transformers library\n",
    "    TrainingArguments,  # For training arguments\n",
    "    Trainer,  # For model training\n",
    "    ViTImageProcessor,  # For processing image data with ViT models\n",
    "    ViTForImageClassification,  # ViT model for image classification\n",
    "    DefaultDataCollator,  # For collating data in the default way\n",
    ")\n",
    "import torch  # Import PyTorch for deep learning\n",
    "from torch.utils.data import DataLoader  # For creating data loaders\n",
    "from torchvision.transforms import (  # Import image transformation functions\n",
    "    CenterCrop,  # Center crop an image\n",
    "    Compose,  # Compose multiple image transformations\n",
    "    Normalize,  # Normalize image pixel values\n",
    "    RandomRotation,  # Apply random rotation to images\n",
    "    RandomResizedCrop,  # Crop and resize images randomly\n",
    "    RandomHorizontalFlip,  # Apply random horizontal flip\n",
    "    RandomAdjustSharpness,  # Adjust sharpness randomly\n",
    "    Resize,  # Resize images\n",
    "    ToTensor,  # Convert images to PyTorch tensors\n",
    ")"
   ],
   "metadata": {
    "execution": {
     "iopub.status.busy": "2024-11-23T11:21:03.478647Z",
     "iopub.execute_input": "2024-11-23T11:21:03.479427Z",
     "iopub.status.idle": "2024-11-23T11:21:03.949838Z",
     "shell.execute_reply.started": "2024-11-23T11:21:03.479381Z",
     "shell.execute_reply": "2024-11-23T11:21:03.949187Z"
    },
    "trusted": true
   },
   "outputs": [],
   "execution_count": 2
  },
  {
   "cell_type": "code",
   "source": "# Import the necessary module from the Python Imaging Library (PIL).\nfrom PIL import ImageFile\n\n# Enable the option to load truncated images.\n# This setting allows the PIL library to attempt loading images even if they are corrupted or incomplete.\nImageFile.LOAD_TRUNCATED_IMAGES = True",
   "metadata": {
    "execution": {
     "iopub.status.busy": "2024-11-23T11:21:03.950736Z",
     "iopub.execute_input": "2024-11-23T11:21:03.951217Z",
     "iopub.status.idle": "2024-11-23T11:21:03.955104Z",
     "shell.execute_reply.started": "2024-11-23T11:21:03.951194Z",
     "shell.execute_reply": "2024-11-23T11:21:03.954175Z"
    },
    "trusted": true
   },
   "outputs": [],
   "execution_count": 3
  },
  {
   "cell_type": "code",
   "source": [
    "# use https://huggingface.co/docs/datasets/image_load for reference\n",
    "\n",
    "# Import necessary libraries\n",
    "image_dict = {}\n",
    "\n",
    "# Define the list of file names\n",
    "from pathlib import Path\n",
    "from tqdm import tqdm\n",
    "import os\n",
    "\n",
    "# Initialize empty lists to store file names and labels\n",
    "file_names = []\n",
    "labels = []\n",
    "\n",
    "# Iterate through all image files in the specified directory\n",
    "for file in sorted(\n",
    "    (Path(\"/kaggle/input/facial-emotion-expressions/images/images/\").glob(\"*/*/*.*\"))\n",
    "):\n",
    "    # check number of such files in a directory\n",
    "    sample_dir = \"/\".join(str(file).split(\"/\")[:-1]) + \"/\"\n",
    "\n",
    "    label = str(file).split(\"/\")[-2]  # Extract the label from the file path\n",
    "    labels.append(label)  # Add the label to the list\n",
    "    file_names.append(str(file))  # Add the file path to the list\n",
    "\n",
    "# Print the total number of file names and labels\n",
    "print(len(file_names), len(labels))\n",
    "\n",
    "# Create a pandas dataframe from the collected file names and labels\n",
    "df = pd.DataFrame.from_dict({\"image\": file_names, \"label\": labels})\n",
    "print(df.shape)"
   ],
   "metadata": {
    "execution": {
     "iopub.status.busy": "2024-11-23T11:21:03.956771Z",
     "iopub.execute_input": "2024-11-23T11:21:03.957023Z",
     "iopub.status.idle": "2024-11-23T11:21:04.690197Z",
     "shell.execute_reply.started": "2024-11-23T11:21:03.957003Z",
     "shell.execute_reply": "2024-11-23T11:21:04.689378Z"
    },
    "trusted": true
   },
   "outputs": [
    {
     "name": "stdout",
     "text": "35887 35887\n(35887, 2)\n",
     "output_type": "stream"
    }
   ],
   "execution_count": 4
  },
  {
   "cell_type": "code",
   "source": "df.head()",
   "metadata": {
    "execution": {
     "iopub.status.busy": "2024-11-23T11:21:04.691202Z",
     "iopub.execute_input": "2024-11-23T11:21:04.691445Z",
     "iopub.status.idle": "2024-11-23T11:21:04.706928Z",
     "shell.execute_reply.started": "2024-11-23T11:21:04.691427Z",
     "shell.execute_reply": "2024-11-23T11:21:04.705887Z"
    },
    "trusted": true
   },
   "outputs": [
    {
     "execution_count": 5,
     "output_type": "execute_result",
     "data": {
      "text/plain": "                                               image  label\n0  /kaggle/input/facial-emotion-expressions/image...  angry\n1  /kaggle/input/facial-emotion-expressions/image...  angry\n2  /kaggle/input/facial-emotion-expressions/image...  angry\n3  /kaggle/input/facial-emotion-expressions/image...  angry\n4  /kaggle/input/facial-emotion-expressions/image...  angry",
      "text/html": "<div>\n<style scoped>\n    .dataframe tbody tr th:only-of-type {\n        vertical-align: middle;\n    }\n\n    .dataframe tbody tr th {\n        vertical-align: top;\n    }\n\n    .dataframe thead th {\n        text-align: right;\n    }\n</style>\n<table border=\"1\" class=\"dataframe\">\n  <thead>\n    <tr style=\"text-align: right;\">\n      <th></th>\n      <th>image</th>\n      <th>label</th>\n    </tr>\n  </thead>\n  <tbody>\n    <tr>\n      <th>0</th>\n      <td>/kaggle/input/facial-emotion-expressions/image...</td>\n      <td>angry</td>\n    </tr>\n    <tr>\n      <th>1</th>\n      <td>/kaggle/input/facial-emotion-expressions/image...</td>\n      <td>angry</td>\n    </tr>\n    <tr>\n      <th>2</th>\n      <td>/kaggle/input/facial-emotion-expressions/image...</td>\n      <td>angry</td>\n    </tr>\n    <tr>\n      <th>3</th>\n      <td>/kaggle/input/facial-emotion-expressions/image...</td>\n      <td>angry</td>\n    </tr>\n    <tr>\n      <th>4</th>\n      <td>/kaggle/input/facial-emotion-expressions/image...</td>\n      <td>angry</td>\n    </tr>\n  </tbody>\n</table>\n</div>"
     },
     "metadata": {}
    }
   ],
   "execution_count": 5
  },
  {
   "cell_type": "code",
   "source": [
    "# random oversampling of minority class\n",
    "# 'y' contains the target variable (label) we want to predict\n",
    "y = df[[\"label\"]]\n",
    "\n",
    "# Drop the 'label' column from the DataFrame 'df' to separate features from the target variable\n",
    "df = df.drop([\"label\"], axis=1)\n",
    "\n",
    "# Create a RandomOverSampler object with a specified random seed (random_state=83)\n",
    "ros = RandomOverSampler(random_state=83)\n",
    "\n",
    "# Use the RandomOverSampler to resample the dataset by oversampling the minority class\n",
    "# 'df' contains the feature data, and 'y_resampled' will contain the resampled target variable\n",
    "df, y_resampled = ros.fit_resample(df, y)\n",
    "\n",
    "# Delete the original 'y' variable to save memory as it's no longer needed\n",
    "del y\n",
    "\n",
    "# Add the resampled target variable 'y_resampled' as a new 'label' column in the DataFrame 'df'\n",
    "df[\"label\"] = y_resampled\n",
    "\n",
    "# Delete the 'y_resampled' variable to save memory as it's no longer needed\n",
    "del y_resampled\n",
    "\n",
    "# Perform garbage collection to free up memory used by discarded variables\n",
    "gc.collect()\n",
    "\n",
    "print(df.shape)"
   ],
   "metadata": {
    "execution": {
     "iopub.status.busy": "2024-11-23T11:21:04.707824Z",
     "iopub.execute_input": "2024-11-23T11:21:04.708081Z",
     "iopub.status.idle": "2024-11-23T11:21:05.072010Z",
     "shell.execute_reply.started": "2024-11-23T11:21:04.708061Z",
     "shell.execute_reply": "2024-11-23T11:21:05.071115Z"
    },
    "trusted": true
   },
   "outputs": [
    {
     "name": "stdout",
     "text": "(62923, 2)\n",
     "output_type": "stream"
    }
   ],
   "execution_count": 6
  },
  {
   "cell_type": "code",
   "source": "# Create a dataset from a Pandas DataFrame.\ndataset = Dataset.from_pandas(df).cast_column(\"image\", Image())",
   "metadata": {
    "execution": {
     "iopub.status.busy": "2024-11-23T11:21:05.072946Z",
     "iopub.execute_input": "2024-11-23T11:21:05.073272Z",
     "iopub.status.idle": "2024-11-23T11:21:05.137738Z",
     "shell.execute_reply.started": "2024-11-23T11:21:05.073239Z",
     "shell.execute_reply": "2024-11-23T11:21:05.137090Z"
    },
    "trusted": true
   },
   "outputs": [],
   "execution_count": 7
  },
  {
   "cell_type": "code",
   "source": "# Display the first image in the dataset\ndataset[0][\"image\"]",
   "metadata": {
    "execution": {
     "iopub.status.busy": "2024-11-23T11:21:05.138671Z",
     "iopub.execute_input": "2024-11-23T11:21:05.138946Z",
     "iopub.status.idle": "2024-11-23T11:21:05.155366Z",
     "shell.execute_reply.started": "2024-11-23T11:21:05.138925Z",
     "shell.execute_reply": "2024-11-23T11:21:05.154644Z"
    },
    "trusted": true
   },
   "outputs": [
    {
     "execution_count": 8,
     "output_type": "execute_result",
     "data": {
      "text/plain": "<PIL.JpegImagePlugin.JpegImageFile image mode=L size=48x48>",
      "image/png": "[encoded data removed]"
     },
     "metadata": {}
    }
   ],
   "execution_count": 8
  },
  {
   "cell_type": "code",
   "source": "# Extracting a subset of elements from the 'labels' list using slicing.\n# The slicing syntax [:5] selects elements from the beginning up to (but not including) the 5th element.\n# This will give us the first 5 elements of the 'labels' list.\n# The result will be a new list containing these elements.\nlabels_subset = labels[:5]\n\n# Printing the subset of labels to inspect the content.\nprint(labels_subset)",
   "metadata": {
    "execution": {
     "iopub.status.busy": "2024-11-23T11:21:05.156310Z",
     "iopub.execute_input": "2024-11-23T11:21:05.156622Z",
     "iopub.status.idle": "2024-11-23T11:21:05.160955Z",
     "shell.execute_reply.started": "2024-11-23T11:21:05.156591Z",
     "shell.execute_reply": "2024-11-23T11:21:05.160113Z"
    },
    "trusted": true
   },
   "outputs": [
    {
     "name": "stdout",
     "text": "['angry', 'angry', 'angry', 'angry', 'angry']\n",
     "output_type": "stream"
    }
   ],
   "execution_count": 9
  },
  {
   "cell_type": "code",
   "source": [
    "# Create a list of unique labels by converting 'labels' to a set and then back to a list\n",
    "labels_list = [\n",
    "    \"sad\",\n",
    "    \"disgust\",\n",
    "    \"angry\",\n",
    "    \"neutral\",\n",
    "    \"fear\",\n",
    "    \"surprise\",\n",
    "    \"happy\",\n",
    "]  # list(set(labels))\n",
    "\n",
    "# Initialize empty dictionaries to map labels to IDs and vice versa\n",
    "label2id, id2label = dict(), dict()\n",
    "\n",
    "# Iterate over the unique labels and assign each label an ID, and vice versa\n",
    "for i, label in enumerate(labels_list):\n",
    "    label2id[label] = i  # Map the label to its corresponding ID\n",
    "    id2label[i] = label  # Map the ID to its corresponding label\n",
    "\n",
    "# Print the resulting dictionaries for reference\n",
    "print(\"Mapping of IDs to Labels:\", id2label, \"\\n\")\n",
    "print(\"Mapping of Labels to IDs:\", label2id)"
   ],
   "metadata": {
    "execution": {
     "iopub.status.busy": "2024-11-23T11:21:05.164577Z",
     "iopub.execute_input": "2024-11-23T11:21:05.164817Z",
     "iopub.status.idle": "2024-11-23T11:21:05.171018Z",
     "shell.execute_reply.started": "2024-11-23T11:21:05.164788Z",
     "shell.execute_reply": "2024-11-23T11:21:05.170270Z"
    },
    "trusted": true
   },
   "outputs": [
    {
     "name": "stdout",
     "text": "Mapping of IDs to Labels: {0: 'sad', 1: 'disgust', 2: 'angry', 3: 'neutral', 4: 'fear', 5: 'surprise', 6: 'happy'} \n\nMapping of Labels to IDs: {'sad': 0, 'disgust': 1, 'angry': 2, 'neutral': 3, 'fear': 4, 'surprise': 5, 'happy': 6}\n",
     "output_type": "stream"
    }
   ],
   "execution_count": 10
  },
  {
   "cell_type": "code",
   "source": [
    "# Creating classlabels to match labels to IDs\n",
    "ClassLabels = ClassLabel(num_classes=len(labels_list), names=labels_list)\n",
    "\n",
    "\n",
    "# Mapping labels to IDs\n",
    "def map_label2id(example):\n",
    "    example[\"label\"] = ClassLabels.str2int(example[\"label\"])\n",
    "    return example\n",
    "\n",
    "\n",
    "dataset = dataset.map(map_label2id, batched=True)\n",
    "\n",
    "# Casting label column to ClassLabel Object\n",
    "dataset = dataset.cast_column(\"label\", ClassLabels)\n",
    "\n",
    "# Splitting the dataset into training and testing sets using an 60-40 split ratio.\n",
    "dataset = dataset.train_test_split(test_size=0.4, shuffle=True, stratify_by_column=\"label\")\n",
    "\n",
    "# Extracting the training data from the split dataset.\n",
    "train_data = dataset[\"train\"]\n",
    "\n",
    "# Extracting the testing data from the split dataset.\n",
    "test_data = dataset[\"test\"]"
   ],
   "metadata": {
    "execution": {
     "iopub.status.busy": "2024-11-23T11:21:05.171951Z",
     "iopub.execute_input": "2024-11-23T11:21:05.172184Z",
     "iopub.status.idle": "2024-11-23T11:21:05.401800Z",
     "shell.execute_reply.started": "2024-11-23T11:21:05.172165Z",
     "shell.execute_reply": "2024-11-23T11:21:05.401176Z"
    },
    "trusted": true
   },
   "outputs": [
    {
     "output_type": "display_data",
     "data": {
      "text/plain": "Map:   0%|          | 0/62923 [00:00<?, ? examples/s]",
      "application/vnd.jupyter.widget-view+json": {
       "version_major": 2,
       "version_minor": 0,
       "model_id": "abf5b1fbf6644c6c95f1b5d3622e63dd"
      }
     },
     "metadata": {}
    },
    {
     "output_type": "display_data",
     "data": {
      "text/plain": "Casting the dataset:   0%|          | 0/62923 [00:00<?, ? examples/s]",
      "application/vnd.jupyter.widget-view+json": {
       "version_major": 2,
       "version_minor": 0,
       "model_id": "96a786a46a044269925ebcd348dfa9f7"
      }
     },
     "metadata": {}
    }
   ],
   "execution_count": 11
  },
  {
   "cell_type": "code",
   "source": [
    "# Define the pre-trained ViT model string\n",
    "model_str = \"google/vit-base-patch16-224-in21k\"  # \"dima806/facial_emotions_image_detection\"\n",
    "\n",
    "# Create a processor for ViT model input from the pre-trained model\n",
    "processor = ViTImageProcessor.from_pretrained(model_str)\n",
    "\n",
    "# Retrieve the image mean and standard deviation used for normalization\n",
    "image_mean, image_std = processor.image_mean, processor.image_std\n",
    "\n",
    "# Get the size (height) of the ViT model's input images\n",
    "size = processor.size[\"height\"]\n",
    "print(\"Size: \", size)\n",
    "\n",
    "# Define a normalization transformation for the input images\n",
    "normalize = Normalize(mean=image_mean, std=image_std)\n",
    "\n",
    "# Define a set of transformations for training data\n",
    "_train_transforms = Compose(\n",
    "    [\n",
    "        Resize((size, size)),  # Resize images to the ViT model's input size\n",
    "        RandomRotation(90),  # Apply random rotation\n",
    "        RandomAdjustSharpness(2),  # Adjust sharpness randomly\n",
    "        RandomHorizontalFlip(0.5),  # Random horizontal flip\n",
    "        ToTensor(),  # Convert images to tensors\n",
    "        normalize,  # Normalize images using mean and std\n",
    "    ]\n",
    ")\n",
    "\n",
    "# Define a set of transformations for validation data\n",
    "_val_transforms = Compose(\n",
    "    [\n",
    "        Resize((size, size)),  # Resize images to the ViT model's input size\n",
    "        ToTensor(),  # Convert images to tensors\n",
    "        normalize,  # Normalize images using mean and std\n",
    "    ]\n",
    ")\n",
    "\n",
    "\n",
    "# Define a function to apply training transformations to a batch of examples\n",
    "def train_transforms(examples):\n",
    "    examples[\"pixel_values\"] = [\n",
    "        _train_transforms(image.convert(\"RGB\")) for image in examples[\"image\"]\n",
    "    ]\n",
    "    return examples\n",
    "\n",
    "\n",
    "# Define a function to apply validation transformations to a batch of examples\n",
    "def val_transforms(examples):\n",
    "    examples[\"pixel_values\"] = [\n",
    "        _val_transforms(image.convert(\"RGB\")) for image in examples[\"image\"]\n",
    "    ]\n",
    "    return examples"
   ],
   "metadata": {
    "execution": {
     "iopub.status.busy": "2024-11-23T11:21:05.402755Z",
     "iopub.execute_input": "2024-11-23T11:21:05.402994Z",
     "iopub.status.idle": "2024-11-23T11:21:05.639897Z",
     "shell.execute_reply.started": "2024-11-23T11:21:05.402974Z",
     "shell.execute_reply": "2024-11-23T11:21:05.639120Z"
    },
    "trusted": true
   },
   "outputs": [
    {
     "output_type": "display_data",
     "data": {
      "text/plain": "preprocessor_config.json:   0%|          | 0.00/160 [00:00<?, ?B/s]",
      "application/vnd.jupyter.widget-view+json": {
       "version_major": 2,
       "version_minor": 0,
       "model_id": "dcf1602aaa2e4a6393f7483341226763"
      }
     },
     "metadata": {}
    },
    {
     "name": "stdout",
     "text": "Size:  224\n",
     "output_type": "stream"
    }
   ],
   "execution_count": 12
  },
  {
   "cell_type": "code",
   "source": "# Set the transforms for the training data\ntrain_data.set_transform(train_transforms)\n\n# Set the transforms for the test/validation data\ntest_data.set_transform(val_transforms)",
   "metadata": {
    "execution": {
     "iopub.status.busy": "2024-11-23T11:21:05.640800Z",
     "iopub.execute_input": "2024-11-23T11:21:05.641072Z",
     "iopub.status.idle": "2024-11-23T11:21:05.650843Z",
     "shell.execute_reply.started": "2024-11-23T11:21:05.641052Z",
     "shell.execute_reply": "2024-11-23T11:21:05.649920Z"
    },
    "trusted": true
   },
   "outputs": [],
   "execution_count": 13
  },
  {
   "cell_type": "code",
   "source": [
    "# Define a collate function that prepares batched data for model training.\n",
    "def collate_fn(examples):\n",
    "    # Stack the pixel values from individual examples into a single tensor.\n",
    "    pixel_values = torch.stack([example[\"pixel_values\"] for example in examples])\n",
    "\n",
    "    # Convert the label strings in examples to corresponding numeric IDs using label2id dictionary.\n",
    "    labels = torch.tensor([example[\"label\"] for example in examples])\n",
    "\n",
    "    # Return a dictionary containing the batched pixel values and labels.\n",
    "    return {\"pixel_values\": pixel_values, \"labels\": labels}"
   ],
   "metadata": {
    "execution": {
     "iopub.status.busy": "2024-11-23T11:21:05.651893Z",
     "iopub.execute_input": "2024-11-23T11:21:05.652157Z",
     "iopub.status.idle": "2024-11-23T11:21:05.665019Z",
     "shell.execute_reply.started": "2024-11-23T11:21:05.652137Z",
     "shell.execute_reply": "2024-11-23T11:21:05.664342Z"
    },
    "trusted": true
   },
   "outputs": [],
   "execution_count": 14
  },
  {
   "cell_type": "markdown",
   "source": "# Load, train, and evaluate model",
   "metadata": {}
  },
  {
   "cell_type": "code",
   "source": [
    "# Create a ViTForImageClassification model from a pretrained checkpoint with a specified number of output labels.\n",
    "model = ViTForImageClassification.from_pretrained(model_str, num_labels=len(labels_list))\n",
    "\n",
    "# Configure the mapping of class labels to their corresponding indices for later reference.\n",
    "model.config.id2label = id2label\n",
    "model.config.label2id = label2id\n",
    "\n",
    "# Calculate and print the number of trainable parameters in millions for the model.\n",
    "print(model.num_parameters(only_trainable=True) / 1e6)"
   ],
   "metadata": {
    "execution": {
     "iopub.status.busy": "2024-11-23T11:21:05.666041Z",
     "iopub.execute_input": "2024-11-23T11:21:05.666301Z",
     "iopub.status.idle": "2024-11-23T11:21:07.941879Z",
     "shell.execute_reply.started": "2024-11-23T11:21:05.666283Z",
     "shell.execute_reply": "2024-11-23T11:21:07.941154Z"
    },
    "trusted": true
   },
   "outputs": [
    {
     "output_type": "display_data",
     "data": {
      "text/plain": "config.json:   0%|          | 0.00/502 [00:00<?, ?B/s]",
      "application/vnd.jupyter.widget-view+json": {
       "version_major": 2,
       "version_minor": 0,
       "model_id": "a57b87cd7e0a4759a711d039c067edea"
      }
     },
     "metadata": {}
    },
    {
     "output_type": "display_data",
     "data": {
      "text/plain": "model.safetensors:   0%|          | 0.00/346M [00:00<?, ?B/s]",
      "application/vnd.jupyter.widget-view+json": {
       "version_major": 2,
       "version_minor": 0,
       "model_id": "7d1cc43096ce4cef9a571d03d4135d51"
      }
     },
     "metadata": {}
    },
    {
     "name": "stderr",
     "text": "Some weights of ViTForImageClassification were not initialized from the model checkpoint at google/vit-base-patch16-224-in21k and are newly initialized: ['classifier.bias', 'classifier.weight']\nYou should probably TRAIN this model on a down-stream task to be able to use it for predictions and inference.\n",
     "output_type": "stream"
    },
    {
     "name": "stdout",
     "text": "85.804039\n",
     "output_type": "stream"
    }
   ],
   "execution_count": 15
  },
  {
   "cell_type": "code",
   "source": [
    "# Load the accuracy metric from a module named 'evaluate'\n",
    "accuracy = evaluate.load(\"accuracy\")\n",
    "\n",
    "\n",
    "# Define a function 'compute_metrics' to calculate evaluation metrics\n",
    "def compute_metrics(eval_pred):\n",
    "    # Extract model predictions from the evaluation prediction object\n",
    "    predictions = eval_pred.predictions\n",
    "\n",
    "    # Extract true labels from the evaluation prediction object\n",
    "    label_ids = eval_pred.label_ids\n",
    "\n",
    "    # Calculate accuracy using the loaded accuracy metric\n",
    "    # Convert model predictions to class labels by selecting the class with the highest probability (argmax)\n",
    "    predicted_labels = predictions.argmax(axis=1)\n",
    "\n",
    "    # Calculate accuracy score by comparing predicted labels to true labels\n",
    "    acc_score = accuracy.compute(predictions=predicted_labels, references=label_ids)[\"accuracy\"]\n",
    "\n",
    "    # Return the computed accuracy as a dictionary with the key \"accuracy\"\n",
    "    return {\"accuracy\": acc_score}"
   ],
   "metadata": {
    "execution": {
     "iopub.status.busy": "2024-11-23T11:21:07.942805Z",
     "iopub.execute_input": "2024-11-23T11:21:07.943039Z",
     "iopub.status.idle": "2024-11-23T11:21:08.526697Z",
     "shell.execute_reply.started": "2024-11-23T11:21:07.943021Z",
     "shell.execute_reply": "2024-11-23T11:21:08.525900Z"
    },
    "trusted": true
   },
   "outputs": [
    {
     "output_type": "display_data",
     "data": {
      "text/plain": "Downloading builder script:   0%|          | 0.00/4.20k [00:00<?, ?B/s]",
      "application/vnd.jupyter.widget-view+json": {
       "version_major": 2,
       "version_minor": 0,
       "model_id": "af33d3a39aa74a8fa071d1d402259caa"
      }
     },
     "metadata": {}
    }
   ],
   "execution_count": 16
  },
  {
   "cell_type": "code",
   "source": [
    "# Define the name of the evaluation metric to be used during training and evaluation.\n",
    "metric_name = \"accuracy\"\n",
    "\n",
    "# Define the name of the model, which will be used to create a directory for saving model checkpoints and outputs.\n",
    "model_name = \"facial_emotions_image_detection\"\n",
    "\n",
    "# Define the number of training epochs for the model.\n",
    "num_train_epochs = 25\n",
    "\n",
    "# Create an instance of TrainingArguments to configure training settings.\n",
    "args = TrainingArguments(\n",
    "    # Specify the directory where model checkpoints and outputs will be saved.\n",
    "    output_dir=model_name,\n",
    "    # Specify the directory where training logs will be stored.\n",
    "    logging_dir=\"./logs\",\n",
    "    # Define the evaluation strategy, which is performed at the end of each epoch.\n",
    "    evaluation_strategy=\"epoch\",\n",
    "    # Set the learning rate for the optimizer.\n",
    "    learning_rate=3e-6,\n",
    "    # Define the batch size for training on each device.\n",
    "    per_device_train_batch_size=32,\n",
    "    # Define the batch size for evaluation on each device.\n",
    "    per_device_eval_batch_size=8,\n",
    "    # Specify the total number of training epochs.\n",
    "    num_train_epochs=num_train_epochs,\n",
    "    # Apply weight decay to prevent overfitting.\n",
    "    weight_decay=0.02,\n",
    "    # Set the number of warm-up steps for the learning rate scheduler.\n",
    "    warmup_steps=50,\n",
    "    # Disable the removal of unused columns from the dataset.\n",
    "    remove_unused_columns=False,\n",
    "    # Define the strategy for saving model checkpoints (per epoch in this case).\n",
    "    save_strategy=\"epoch\",\n",
    "    # Load the best model at the end of training.\n",
    "    load_best_model_at_end=True,\n",
    "    # Limit the total number of saved checkpoints to save space.\n",
    "    save_total_limit=1,\n",
    "    # Specify that training progress should not be reported.\n",
    "    report_to=\"none\",\n",
    ")"
   ],
   "metadata": {
    "execution": {
     "iopub.status.busy": "2024-11-23T11:21:08.527913Z",
     "iopub.execute_input": "2024-11-23T11:21:08.528160Z",
     "iopub.status.idle": "2024-11-23T11:21:08.612259Z",
     "shell.execute_reply.started": "2024-11-23T11:21:08.528140Z",
     "shell.execute_reply": "2024-11-23T11:21:08.611578Z"
    },
    "trusted": true
   },
   "outputs": [],
   "execution_count": 17
  },
  {
   "cell_type": "code",
   "source": "# Create a Trainer instance for fine-tuning a language model.\n\n# - `model`: The pre-trained language model to be fine-tuned.\n# - `args`: Configuration settings and hyperparameters for training.\n# - `train_dataset`: The dataset used for training the model.\n# - `eval_dataset`: The dataset used for evaluating the model during training.\n# - `data_collator`: A function that defines how data batches are collated and processed.\n# - `compute_metrics`: A function for computing custom evaluation metrics.\n# - `tokenizer`: The tokenizer used for processing text data.\n\ntrainer = Trainer(\n    model,\n    args,\n    train_dataset=train_data,\n    eval_dataset=test_data,\n    data_collator=collate_fn,\n    compute_metrics=compute_metrics,\n    tokenizer=processor,\n)",
   "metadata": {
    "execution": {
     "iopub.status.busy": "2024-11-23T11:21:08.613219Z",
     "iopub.execute_input": "2024-11-23T11:21:08.613456Z",
     "iopub.status.idle": "2024-11-23T11:21:08.849285Z",
     "shell.execute_reply.started": "2024-11-23T11:21:08.613436Z",
     "shell.execute_reply": "2024-11-23T11:21:08.848355Z"
    },
    "trusted": true
   },
   "outputs": [],
   "execution_count": 18
  },
  {
   "cell_type": "code",
   "source": "# Evaluate the pre-training model's performance on a test dataset.\n# This function calculates various metrics such as accuracy, loss, etc.,\n# to assess how well the model is performing on unseen data.\n\ntrainer.evaluate()",
   "metadata": {
    "execution": {
     "iopub.status.busy": "2024-11-23T11:21:08.850460Z",
     "iopub.execute_input": "2024-11-23T11:21:08.851411Z",
     "iopub.status.idle": "2024-11-23T11:25:56.605402Z",
     "shell.execute_reply.started": "2024-11-23T11:21:08.851379Z",
     "shell.execute_reply": "2024-11-23T11:25:56.604523Z"
    },
    "trusted": true
   },
   "outputs": [
    {
     "output_type": "display_data",
     "data": {
      "text/plain": "<IPython.core.display.HTML object>",
      "text/html": "\n    <div>\n      \n      <progress value='6294' max='3147' style='width:300px; height:20px; vertical-align: middle;'></progress>\n      [3147/3147 23:03]\n    </div>\n    "
     },
     "metadata": {}
    },
    {
     "execution_count": 19,
     "output_type": "execute_result",
     "data": {
      "text/plain": "{'eval_loss': 1.9580528736114502,\n 'eval_model_preparation_time': 0.0034,\n 'eval_accuracy': 0.1199046483909416,\n 'eval_runtime': 287.7429,\n 'eval_samples_per_second': 87.474,\n 'eval_steps_per_second': 10.937}"
     },
     "metadata": {}
    }
   ],
   "execution_count": 19
  },
  {
   "cell_type": "code",
   "source": "# Start training the model using the trainer object.\ntrainer.train()",
   "metadata": {
    "execution": {
     "iopub.status.busy": "2024-11-23T11:25:56.606670Z",
     "iopub.execute_input": "2024-11-23T11:25:56.607460Z",
     "iopub.status.idle": "2024-11-23T18:35:25.286606Z",
     "shell.execute_reply.started": "2024-11-23T11:25:56.607424Z",
     "shell.execute_reply": "2024-11-23T18:35:25.285811Z"
    },
    "trusted": true
   },
   "outputs": [
    {
     "output_type": "display_data",
     "data": {
      "text/plain": "<IPython.core.display.HTML object>",
      "text/html": "\n    <div>\n      \n      <progress value='29500' max='29500' style='width:300px; height:20px; vertical-align: middle;'></progress>\n      [29500/29500 7:09:27, Epoch 25/25]\n    </div>\n    <table border=\"1\" class=\"dataframe\">\n  <thead>\n <tr style=\"text-align: left;\">\n      <th>Epoch</th>\n      <th>Training Loss</th>\n      <th>Validation Loss</th>\n      <th>Model Preparation Time</th>\n      <th>Accuracy</th>\n    </tr>\n  </thead>\n  <tbody>\n    <tr>\n      <td>1</td>\n      <td>1.710500</td>\n      <td>1.768960</td>\n      <td>0.003400</td>\n      <td>0.404728</td>\n    </tr>\n    <tr>\n      <td>2</td>\n      <td>1.437800</td>\n      <td>1.474978</td>\n      <td>0.003400</td>\n      <td>0.494756</td>\n    </tr>\n    <tr>\n      <td>3</td>\n      <td>1.268300</td>\n      <td>1.339540</td>\n      <td>0.003400</td>\n      <td>0.535876</td>\n    </tr>\n    <tr>\n      <td>4</td>\n      <td>1.192500</td>\n      <td>1.246886</td>\n      <td>0.003400</td>\n      <td>0.561184</td>\n    </tr>\n    <tr>\n      <td>5</td>\n      <td>1.129900</td>\n      <td>1.181490</td>\n      <td>0.003400</td>\n      <td>0.582002</td>\n    </tr>\n    <tr>\n      <td>6</td>\n      <td>1.055500</td>\n      <td>1.160379</td>\n      <td>0.003400</td>\n      <td>0.581049</td>\n    </tr>\n    <tr>\n      <td>7</td>\n      <td>1.019600</td>\n      <td>1.105130</td>\n      <td>0.003400</td>\n      <td>0.599245</td>\n    </tr>\n    <tr>\n      <td>8</td>\n      <td>0.988700</td>\n      <td>1.048617</td>\n      <td>0.003400</td>\n      <td>0.626698</td>\n    </tr>\n    <tr>\n      <td>9</td>\n      <td>0.940000</td>\n      <td>1.027664</td>\n      <td>0.003400</td>\n      <td>0.631148</td>\n    </tr>\n    <tr>\n      <td>10</td>\n      <td>0.911400</td>\n      <td>1.006873</td>\n      <td>0.003400</td>\n      <td>0.638061</td>\n    </tr>\n    <tr>\n      <td>11</td>\n      <td>0.895700</td>\n      <td>1.003653</td>\n      <td>0.003400</td>\n      <td>0.636830</td>\n    </tr>\n    <tr>\n      <td>12</td>\n      <td>0.871700</td>\n      <td>0.980635</td>\n      <td>0.003400</td>\n      <td>0.645213</td>\n    </tr>\n    <tr>\n      <td>13</td>\n      <td>0.854700</td>\n      <td>0.961017</td>\n      <td>0.003400</td>\n      <td>0.649464</td>\n    </tr>\n    <tr>\n      <td>14</td>\n      <td>0.839100</td>\n      <td>0.969360</td>\n      <td>0.003400</td>\n      <td>0.645928</td>\n    </tr>\n    <tr>\n      <td>15</td>\n      <td>0.816800</td>\n      <td>0.943435</td>\n      <td>0.003400</td>\n      <td>0.655066</td>\n    </tr>\n    <tr>\n      <td>16</td>\n      <td>0.815100</td>\n      <td>0.943335</td>\n      <td>0.003400</td>\n      <td>0.655224</td>\n    </tr>\n    <tr>\n      <td>17</td>\n      <td>0.802900</td>\n      <td>0.932164</td>\n      <td>0.003400</td>\n      <td>0.658721</td>\n    </tr>\n    <tr>\n      <td>18</td>\n      <td>0.790800</td>\n      <td>0.910887</td>\n      <td>0.003400</td>\n      <td>0.668574</td>\n    </tr>\n    <tr>\n      <td>19</td>\n      <td>0.785100</td>\n      <td>0.911023</td>\n      <td>0.003400</td>\n      <td>0.666587</td>\n    </tr>\n    <tr>\n      <td>20</td>\n      <td>0.776900</td>\n      <td>0.903785</td>\n      <td>0.003400</td>\n      <td>0.669726</td>\n    </tr>\n    <tr>\n      <td>21</td>\n      <td>0.765100</td>\n      <td>0.896904</td>\n      <td>0.003400</td>\n      <td>0.674056</td>\n    </tr>\n    <tr>\n      <td>22</td>\n      <td>0.754300</td>\n      <td>0.894277</td>\n      <td>0.003400</td>\n      <td>0.672904</td>\n    </tr>\n    <tr>\n      <td>23</td>\n      <td>0.755900</td>\n      <td>0.899486</td>\n      <td>0.003400</td>\n      <td>0.671752</td>\n    </tr>\n    <tr>\n      <td>24</td>\n      <td>0.762300</td>\n      <td>0.895297</td>\n      <td>0.003400</td>\n      <td>0.672785</td>\n    </tr>\n    <tr>\n      <td>25</td>\n      <td>0.749700</td>\n      <td>0.894085</td>\n      <td>0.003400</td>\n      <td>0.673540</td>\n    </tr>\n  </tbody>\n</table><p>"
     },
     "metadata": {}
    },
    {
     "execution_count": 20,
     "output_type": "execute_result",
     "data": {
      "text/plain": "TrainOutput(global_step=29500, training_loss=0.9522228621143406, metrics={'train_runtime': 25768.4081, 'train_samples_per_second': 36.627, 'train_steps_per_second': 1.145, 'total_flos': 7.31421547010994e+19, 'train_loss': 0.9522228621143406, 'epoch': 25.0})"
     },
     "metadata": {}
    }
   ],
   "execution_count": 20
  },
  {
   "cell_type": "code",
   "source": "# Evaluate the post-training model's performance on the validation or test dataset.\n# This function computes various evaluation metrics like accuracy, loss, etc.\n# and provides insights into how well the model is performing.\n\ntrainer.evaluate()",
   "metadata": {
    "execution": {
     "iopub.status.busy": "2024-11-23T18:35:25.287632Z",
     "iopub.execute_input": "2024-11-23T18:35:25.287922Z",
     "iopub.status.idle": "2024-11-23T18:38:51.728516Z",
     "shell.execute_reply.started": "2024-11-23T18:35:25.287900Z",
     "shell.execute_reply": "2024-11-23T18:38:51.727727Z"
    },
    "trusted": true
   },
   "outputs": [
    {
     "output_type": "display_data",
     "data": {
      "text/plain": "<IPython.core.display.HTML object>",
      "text/html": ""
     },
     "metadata": {}
    },
    {
     "execution_count": 21,
     "output_type": "execute_result",
     "data": {
      "text/plain": "{'eval_loss': 0.8940852284431458,\n 'eval_model_preparation_time': 0.0034,\n 'eval_accuracy': 0.6735399284862932,\n 'eval_runtime': 206.4299,\n 'eval_samples_per_second': 121.93,\n 'eval_steps_per_second': 15.245,\n 'epoch': 25.0}"
     },
     "metadata": {}
    }
   ],
   "execution_count": 21
  },
  {
   "cell_type": "code",
   "source": "# Use the trained 'trainer' to make predictions on the 'test_data'.\noutputs = trainer.predict(test_data)\n\n# Print the metrics obtained from the prediction outputs.\nprint(outputs.metrics)",
   "metadata": {
    "execution": {
     "iopub.status.busy": "2024-11-23T18:38:51.729431Z",
     "iopub.execute_input": "2024-11-23T18:38:51.729658Z",
     "iopub.status.idle": "2024-11-23T18:42:21.059246Z",
     "shell.execute_reply.started": "2024-11-23T18:38:51.729639Z",
     "shell.execute_reply": "2024-11-23T18:42:21.058415Z"
    },
    "trusted": true
   },
   "outputs": [
    {
     "name": "stdout",
     "text": "{'test_loss': 0.8940852284431458, 'test_model_preparation_time': 0.0034, 'test_accuracy': 0.6735399284862932, 'test_runtime': 209.3178, 'test_samples_per_second': 120.248, 'test_steps_per_second': 15.035}\n",
     "output_type": "stream"
    }
   ],
   "execution_count": 22
  },
  {
   "cell_type": "code",
   "source": [
    "# Extract the true labels from the model outputs\n",
    "y_true = outputs.label_ids\n",
    "\n",
    "# Predict the labels by selecting the class with the highest probability\n",
    "y_pred = outputs.predictions.argmax(1)\n",
    "\n",
    "\n",
    "# Define a function to plot a confusion matrix\n",
    "def plot_confusion_matrix(\n",
    "    cm, classes, title=\"Confusion Matrix\", cmap=plt.cm.Blues, figsize=(10, 8)\n",
    "):\n",
    "    \"\"\"\n",
    "    This function plots a confusion matrix.\n",
    "\n",
    "    Parameters:\n",
    "        cm (array-like): Confusion matrix as returned by sklearn.metrics.confusion_matrix.\n",
    "        classes (list): List of class names, e.g., ['Class 0', 'Class 1'].\n",
    "        title (str): Title for the plot.\n",
    "        cmap (matplotlib colormap): Colormap for the plot.\n",
    "    \"\"\"\n",
    "    # Create a figure with a specified size\n",
    "    plt.figure(figsize=figsize)\n",
    "\n",
    "    # Display the confusion matrix as an image with a colormap\n",
    "    plt.imshow(cm, interpolation=\"nearest\", cmap=cmap)\n",
    "    plt.title(title)\n",
    "    plt.colorbar()\n",
    "\n",
    "    # Define tick marks and labels for the classes on the axes\n",
    "    tick_marks = np.arange(len(classes))\n",
    "    plt.xticks(tick_marks, classes, rotation=90)\n",
    "    plt.yticks(tick_marks, classes)\n",
    "\n",
    "    fmt = \".0f\"\n",
    "    # Add text annotations to the plot indicating the values in the cells\n",
    "    thresh = cm.max() / 2.0\n",
    "    for i, j in itertools.product(range(cm.shape[0]), range(cm.shape[1])):\n",
    "        plt.text(\n",
    "            j,\n",
    "            i,\n",
    "            format(cm[i, j], fmt),\n",
    "            horizontalalignment=\"center\",\n",
    "            color=\"white\" if cm[i, j] > thresh else \"black\",\n",
    "        )\n",
    "\n",
    "    # Label the axes\n",
    "    plt.ylabel(\"True label\")\n",
    "    plt.xlabel(\"Predicted label\")\n",
    "\n",
    "    # Ensure the plot layout is tight\n",
    "    plt.tight_layout()\n",
    "    # Display the plot\n",
    "    plt.show()\n",
    "\n",
    "\n",
    "# Calculate accuracy and F1 score\n",
    "accuracy = accuracy_score(y_true, y_pred)\n",
    "f1 = f1_score(y_true, y_pred, average=\"macro\")\n",
    "\n",
    "# Display accuracy and F1 score\n",
    "print(f\"Accuracy: {accuracy:.4f}\")\n",
    "print(f\"F1 Score: {f1:.4f}\")\n",
    "\n",
    "# Get the confusion matrix if there are a small number of labels\n",
    "if len(labels_list) <= 150:\n",
    "    # Compute the confusion matrix\n",
    "    cm = confusion_matrix(y_true, y_pred)\n",
    "\n",
    "    # Plot the confusion matrix using the defined function\n",
    "    plot_confusion_matrix(cm, labels_list, figsize=(8, 6))\n",
    "\n",
    "# Finally, display classification report\n",
    "print()\n",
    "print(\"Classification report:\")\n",
    "print()\n",
    "print(classification_report(y_true, y_pred, target_names=labels_list, digits=4))"
   ],
   "metadata": {
    "execution": {
     "iopub.status.busy": "2024-11-23T18:42:21.060412Z",
     "iopub.execute_input": "2024-11-23T18:42:21.060756Z",
     "iopub.status.idle": "2024-11-23T18:42:21.541105Z",
     "shell.execute_reply.started": "2024-11-23T18:42:21.060727Z",
     "shell.execute_reply": "2024-11-23T18:42:21.540236Z"
    },
    "trusted": true
   },
   "outputs": [
    {
     "name": "stdout",
     "text": "Accuracy: 0.6735\nF1 Score: 0.6675\n",
     "output_type": "stream"
    },
    {
     "output_type": "display_data",
     "data": {
      "text/plain": "<Figure size 800x600 with 2 Axes>",
      "image/png": "[encoded data removed]"
     },
     "metadata": {}
    },
    {
     "name": "stdout",
     "text": "\nClassification report:\n\n              precision    recall  f1-score   support\n\n         sad     0.4899    0.5787    0.5306      3596\n     disgust     0.9217    0.9099    0.9158      3596\n       angry     0.5627    0.5865    0.5743      3596\n     neutral     0.5801    0.6495    0.6129      3595\n        fear     0.5621    0.3234    0.4106      3596\n    surprise     0.7903    0.8095    0.7998      3595\n       happy     0.8012    0.8573    0.8283      3596\n\n    accuracy                         0.6735     25170\n   macro avg     0.6726    0.6735    0.6675     25170\nweighted avg     0.6726    0.6735    0.6675     25170\n\n",
     "output_type": "stream"
    }
   ],
   "execution_count": 23
  },
  {
   "cell_type": "code",
   "source": "# Save the trained model: This line of code is responsible for saving the model\n# that has been trained using the trainer object. It will serialize the model\n# and its associated weights, making it possible to reload and use the model\n# in the future without the need to retrain it.\ntrainer.save_model()",
   "metadata": {
    "execution": {
     "iopub.status.busy": "2024-11-23T18:42:21.542309Z",
     "iopub.execute_input": "2024-11-23T18:42:21.543002Z",
     "iopub.status.idle": "2024-11-23T18:42:22.256047Z",
     "shell.execute_reply.started": "2024-11-23T18:42:21.542970Z",
     "shell.execute_reply": "2024-11-23T18:42:22.255372Z"
    },
    "trusted": true
   },
   "outputs": [],
   "execution_count": 24
  },
  {
   "cell_type": "code",
   "source": [
    "# Import the 'pipeline' function from the 'transformers' library.\n",
    "from transformers import pipeline\n",
    "\n",
    "# Create a pipeline for image classification tasks.\n",
    "# You need to specify the 'model_name' and the 'device' to use for inference.\n",
    "# - 'model_name': The name of the pre-trained model to be used for image classification.\n",
    "# - 'device': Specifies the device to use for running the model (0 for GPU, -1 for CPU).\n",
    "pipe = pipeline(\"image-classification\", model=model_name, device=0)"
   ],
   "metadata": {
    "execution": {
     "iopub.status.busy": "2024-11-23T18:42:22.257062Z",
     "iopub.execute_input": "2024-11-23T18:42:22.257384Z",
     "iopub.status.idle": "2024-11-23T18:42:22.546874Z",
     "shell.execute_reply.started": "2024-11-23T18:42:22.257341Z",
     "shell.execute_reply": "2024-11-23T18:42:22.546194Z"
    },
    "trusted": true
   },
   "outputs": [],
   "execution_count": 25
  },
  {
   "cell_type": "code",
   "source": "# Accessing an image from the 'test_data' dataset using index 1.\nimage = test_data[1][\"image\"]\n\n# Displaying the 'image' variable.\nimage",
   "metadata": {
    "execution": {
     "iopub.status.busy": "2024-11-23T18:42:22.547745Z",
     "iopub.execute_input": "2024-11-23T18:42:22.547995Z",
     "iopub.status.idle": "2024-11-23T18:42:22.557551Z",
     "shell.execute_reply.started": "2024-11-23T18:42:22.547975Z",
     "shell.execute_reply": "2024-11-23T18:42:22.556889Z"
    },
    "trusted": true
   },
   "outputs": [
    {
     "execution_count": 26,
     "output_type": "execute_result",
     "data": {
      "text/plain": "<PIL.JpegImagePlugin.JpegImageFile image mode=L size=48x48>",
      "image/png": "[encoded data removed]"
     },
     "metadata": {}
    }
   ],
   "execution_count": 26
  },
  {
   "cell_type": "code",
   "source": "# Apply the 'pipe' function to process the 'image' variable.\npipe(image)",
   "metadata": {
    "execution": {
     "iopub.status.busy": "2024-11-23T18:42:22.558557Z",
     "iopub.execute_input": "2024-11-23T18:42:22.558785Z",
     "iopub.status.idle": "2024-11-23T18:42:22.594803Z",
     "shell.execute_reply.started": "2024-11-23T18:42:22.558765Z",
     "shell.execute_reply": "2024-11-23T18:42:22.594018Z"
    },
    "trusted": true
   },
   "outputs": [
    {
     "execution_count": 27,
     "output_type": "execute_result",
     "data": {
      "text/plain": "[{'label': 'surprise', 'score': 0.6953051090240479},\n {'label': 'angry', 'score': 0.6748198866844177},\n {'label': 'fear', 'score': 0.6662992835044861},\n {'label': 'sad', 'score': 0.6321488618850708},\n {'label': 'neutral', 'score': 0.5467278361320496}]"
     },
     "metadata": {}
    }
   ],
   "execution_count": 27
  },
  {
   "cell_type": "code",
   "source": "# This line of code accesses the \"label\" attribute of a specific element in the test_data list.\n# It's used to retrieve the actual label associated with a test data point.\nid2label[test_data[1][\"label\"]]",
   "metadata": {
    "execution": {
     "iopub.status.busy": "2024-11-23T18:42:22.600274Z",
     "iopub.execute_input": "2024-11-23T18:42:22.600543Z",
     "iopub.status.idle": "2024-11-23T18:42:22.608194Z",
     "shell.execute_reply.started": "2024-11-23T18:42:22.600514Z",
     "shell.execute_reply": "2024-11-23T18:42:22.607358Z"
    },
    "trusted": true
   },
   "outputs": [
    {
     "execution_count": 28,
     "output_type": "execute_result",
     "data": {
      "text/plain": "'fear'"
     },
     "metadata": {}
    }
   ],
   "execution_count": 28
  },
  {
   "cell_type": "markdown",
   "source": "# Send model to Huggingface",
   "metadata": {}
  },
  {
   "cell_type": "code",
   "source": [
    "from huggingface_hub.hf_api import HfFolder\n",
    "\n",
    "HfFolder.save_token(\"...\")"
   ],
   "metadata": {
    "trusted": true
   },
   "outputs": [],
   "execution_count": null
  },
  {
   "cell_type": "code",
   "source": "# # Import the necessary module to interact with the Hugging Face Hub.\n# from huggingface_hub import notebook_login\n\n# # Perform a login to the Hugging Face Hub.\n# notebook_login()",
   "metadata": {
    "execution": {
     "iopub.status.busy": "2024-04-06T21:46:32.889404Z",
     "iopub.execute_input": "2024-04-06T21:46:32.889769Z",
     "iopub.status.idle": "2024-04-06T21:46:32.916066Z",
     "shell.execute_reply.started": "2024-04-06T21:46:32.889744Z",
     "shell.execute_reply": "2024-04-06T21:46:32.915111Z"
    },
    "trusted": true
   },
   "outputs": [
    {
     "output_type": "display_data",
     "data": {
      "text/plain": "VBox(children=(HTML(value='<center> <img\\nsrc=https://huggingface.co/front/assets/huggingface_logo-noborder.sv…",
      "application/vnd.jupyter.widget-view+json": {
       "version_major": 2,
       "version_minor": 0,
       "model_id": "135c97898bf1450c89e5986e0bca94d9"
      }
     },
     "metadata": {}
    }
   ],
   "execution_count": 29
  },
  {
   "cell_type": "code",
   "source": [
    "# Import the HfApi class from the huggingface_hub library.\n",
    "from huggingface_hub import HfApi\n",
    "\n",
    "# Create an instance of the HfApi class.\n",
    "api = HfApi()\n",
    "\n",
    "# Define the repository ID by combining the username \"dima806\" with the model name.\n",
    "repo_id = f\"dima806/{model_name}\"\n",
    "\n",
    "try:\n",
    "    # Attempt to create a new repository on the Hugging Face Model Hub using the specified repo_id.\n",
    "    api.create_repo(repo_id)\n",
    "\n",
    "    # If the repository creation is successful, print a message indicating that the repository was created.\n",
    "    print(f\"Repo {repo_id} created\")\n",
    "except:\n",
    "    # If an exception is raised, print a message indicating that the repository already exists.\n",
    "    print(f\"Repo {repo_id} already exists\")"
   ],
   "metadata": {
    "execution": {
     "iopub.status.busy": "2024-04-06T21:46:50.055731Z",
     "iopub.execute_input": "2024-04-06T21:46:50.056573Z",
     "iopub.status.idle": "2024-04-06T21:46:50.130450Z",
     "shell.execute_reply.started": "2024-04-06T21:46:50.056539Z",
     "shell.execute_reply": "2024-04-06T21:46:50.129582Z"
    },
    "trusted": true
   },
   "outputs": [
    {
     "name": "stdout",
     "text": "Repo dima806/facial_emotions_image_detection already exists\n",
     "output_type": "stream"
    }
   ],
   "execution_count": 30
  },
  {
   "cell_type": "code",
   "source": [
    "# Uploading a folder to the Hugging Face Model Hub\n",
    "api.upload_folder(\n",
    "    folder_path=model_name,  # The path to the folder to be uploaded\n",
    "    path_in_repo=\".\",  # The path where the folder will be stored in the repository\n",
    "    repo_id=repo_id,  # The ID of the repository where the folder will be uploaded\n",
    "    repo_type=\"model\",  # The type of the repository (in this case, a model repository)\n",
    "    revision=\"main\",  # Revision name\n",
    ")"
   ],
   "metadata": {
    "execution": {
     "iopub.status.busy": "2024-04-06T21:46:51.157293Z",
     "iopub.execute_input": "2024-04-06T21:46:51.157682Z",
     "iopub.status.idle": "2024-04-06T21:47:07.309224Z",
     "shell.execute_reply.started": "2024-04-06T21:46:51.157653Z",
     "shell.execute_reply": "2024-04-06T21:47:07.308321Z"
    },
    "trusted": true
   },
   "outputs": [
    {
     "output_type": "display_data",
     "data": {
      "text/plain": "optimizer.pt:   0%|          | 0.00/687M [00:00<?, ?B/s]",
      "application/vnd.jupyter.widget-view+json": {
       "version_major": 2,
       "version_minor": 0,
       "model_id": "758284de762c4b53b3e38c07aa35996d"
      }
     },
     "metadata": {}
    },
    {
     "output_type": "display_data",
     "data": {
      "text/plain": "Upload 6 LFS files:   0%|          | 0/6 [00:00<?, ?it/s]",
      "application/vnd.jupyter.widget-view+json": {
       "version_major": 2,
       "version_minor": 0,
       "model_id": "da2a5858074e4b56980eee8cc721ad0e"
      }
     },
     "metadata": {}
    },
    {
     "output_type": "display_data",
     "data": {
      "text/plain": "training_args.bin:   0%|          | 0.00/4.41k [00:00<?, ?B/s]",
      "application/vnd.jupyter.widget-view+json": {
       "version_major": 2,
       "version_minor": 0,
       "model_id": "8d2774d72d1341649fb6d2de7ffa3dd5"
      }
     },
     "metadata": {}
    },
    {
     "output_type": "display_data",
     "data": {
      "text/plain": "scheduler.pt:   0%|          | 0.00/627 [00:00<?, ?B/s]",
      "application/vnd.jupyter.widget-view+json": {
       "version_major": 2,
       "version_minor": 0,
       "model_id": "7aff7facd04c4c8ab38572e4e5043fb8"
      }
     },
     "metadata": {}
    },
    {
     "output_type": "display_data",
     "data": {
      "text/plain": "model.safetensors:   0%|          | 0.00/343M [00:00<?, ?B/s]",
      "application/vnd.jupyter.widget-view+json": {
       "version_major": 2,
       "version_minor": 0,
       "model_id": "c28b871c61f04b0f8f88d5b99ce4bfb4"
      }
     },
     "metadata": {}
    },
    {
     "output_type": "display_data",
     "data": {
      "text/plain": "model.safetensors:   0%|          | 0.00/343M [00:00<?, ?B/s]",
      "application/vnd.jupyter.widget-view+json": {
       "version_major": 2,
       "version_minor": 0,
       "model_id": "bc71ee98337a45e7aa603f2f77d188c2"
      }
     },
     "metadata": {}
    },
    {
     "output_type": "display_data",
     "data": {
      "text/plain": "training_args.bin:   0%|          | 0.00/4.41k [00:00<?, ?B/s]",
      "application/vnd.jupyter.widget-view+json": {
       "version_major": 2,
       "version_minor": 0,
       "model_id": "1946d2745d58423d8dd75b1191e140c9"
      }
     },
     "metadata": {}
    },
    {
     "execution_count": 31,
     "output_type": "execute_result",
     "data": {
      "text/plain": "CommitInfo(commit_url='https://huggingface.co/dima806/facial_emotions_image_detection/commit/98c01c82b6f9066f6bbee49bf2ae6a06cce32abb', commit_message='Upload folder using huggingface_hub', commit_description='', oid='98c01c82b6f9066f6bbee49bf2ae6a06cce32abb', pr_url=None, pr_revision=None, pr_num=None)"
     },
     "metadata": {}
    }
   ],
   "execution_count": 31
  },
  {
   "cell_type": "code",
   "source": "",
   "metadata": {},
   "outputs": [],
   "execution_count": null
  }
 ]
}