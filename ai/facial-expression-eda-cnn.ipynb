{
 "cells": [
  {
   "cell_type": "markdown",
   "metadata": {
    "_cell_guid": "79c7e3d0-c299-4dcb-8224-4455121ee9b0",
    "_uuid": "d629ff2d2480ee46fbb7e2d37f6b5fab8052498a"
   },
   "source": [
    "# <h1 style='background:#CCCCCC; border:0; color:black'><center><span style=\"color: royalblue;\"><span style=\"color: royalblue;\">Intro</span></span></center></h1> \n",
    "Welcome to the [facial expression competition](https://www.kaggle.com/c/challenges-in-representation-learning-facial-expression-recognition-challenge).\n",
    "\n",
    "\n",
    "\n",
    "<table>\n",
    "    <tr>\n",
    "        <td><img src=\"https://i.ibb.co/B394D0t/12.png\" width=\"100%\" height=\"100%\"></td>\n",
    "        <td><img src=\"https://i.ibb.co/5xV8MZj/40.png\" width=\"100%\" height=\"100%\"></td>\n",
    "        <td><img src=\"https://i.ibb.co/bFgXc43/19.png\" width=\"100%\" height=\"100%\"></td>\n",
    "    </tr>\n",
    "</table>\n",
    "The data consists of 48x48 pixel grayscale images of faces. The faces have been automatically registered so that the face is more or less centered and occupies about the same amount of space in each image. The task is to categorize each face based on the emotion shown in the facial expression in to one of seven categories:\n",
    "\n",
    "| categorie  | emotion  |\n",
    "|:---:|:---|\n",
    "| 0  | Angry  |\n",
    "| 1  |  Disgust |\n",
    "| 2  |  Fear |\n",
    "| 3  |  Happy |\n",
    "| 4  |  Sad |\n",
    "| 5  |  Surprise |\n",
    "| 6  | Neutral |\n",
    "\n",
    "We define a simple CNN model and compare the predicted results with ge given labels.\n",
    "\n",
    "Do you need an idea to deploy your project? Look [here](https://www.kaggle.com/drcapa/facial-expression-telegram-bot).\n",
    "\n",
    "<font size=\"4\"><span style=\"color: royalblue;\">Please vote the notebook up if it is helpful.</span></font>\n",
    "Feel free to leave a comment above the notebook. Thank you. "
   ]
  },
  {
   "cell_type": "markdown",
   "metadata": {},
   "source": [
    "# <h1 style='background:#CCCCCC; border:0; color:black'><center><span style=\"color: royalblue;\">Libraries</span></center></h1> \n",
    "We load some standard libraries and packages of sklearn and keras."
   ]
  },
  {
   "cell_type": "code",
   "execution_count": null,
   "metadata": {
    "_kg_hide-input": true,
    "execution": {
     "iopub.execute_input": "2021-11-10T11:07:10.414708Z",
     "iopub.status.busy": "2021-11-10T11:07:10.414344Z",
     "iopub.status.idle": "2021-11-10T11:07:16.691932Z",
     "shell.execute_reply": "2021-11-10T11:07:16.691052Z",
     "shell.execute_reply.started": "2021-11-10T11:07:10.414676Z"
    },
    "trusted": true
   },
   "outputs": [],
   "source": [
    "import pandas as pd\n",
    "import numpy as np\n",
    "import os\n",
    "import matplotlib.pyplot as plt\n",
    "\n",
    "from sklearn.metrics import confusion_matrix\n",
    "from mlxtend.plotting import plot_confusion_matrix\n",
    "\n",
    "from keras import models\n",
    "from keras.layers import Dense, Dropout, Flatten, Conv2D, MaxPool2D\n",
    "from keras.optimizers import RMSprop, Adam\n",
    "from keras.utils import to_categorical"
   ]
  },
  {
   "cell_type": "markdown",
   "metadata": {},
   "source": [
    "# <h1 style='background:#CCCCCC; border:0; color:black'><center><span style=\"color: royalblue;\"><span style=\"color: royalblue;\">Path</span></span></center></h1> \n",
    "Define the input path and show all files."
   ]
  },
  {
   "cell_type": "code",
   "execution_count": null,
   "metadata": {
    "_kg_hide-input": true,
    "execution": {
     "iopub.execute_input": "2021-11-10T11:07:16.694605Z",
     "iopub.status.busy": "2021-11-10T11:07:16.694155Z",
     "iopub.status.idle": "2021-11-10T11:07:16.706188Z",
     "shell.execute_reply": "2021-11-10T11:07:16.705237Z",
     "shell.execute_reply.started": "2021-11-10T11:07:16.694544Z"
    },
    "trusted": true
   },
   "outputs": [],
   "source": [
    "path = \"/kaggle/input/challenges-in-representation-learning-facial-expression-recognition-challenge/\"\n",
    "os.listdir(path)"
   ]
  },
  {
   "cell_type": "markdown",
   "metadata": {},
   "source": [
    "# <h1 style='background:#CCCCCC; border:0; color:black'><center><span style=\"color: royalblue;\"><span style=\"color: royalblue;\">Load Data</span></span></center></h1> \n",
    "Load the image data with labels."
   ]
  },
  {
   "cell_type": "code",
   "execution_count": null,
   "metadata": {
    "_kg_hide-input": true,
    "execution": {
     "iopub.execute_input": "2021-11-10T11:07:16.70775Z",
     "iopub.status.busy": "2021-11-10T11:07:16.707434Z",
     "iopub.status.idle": "2021-11-10T11:07:22.225452Z",
     "shell.execute_reply": "2021-11-10T11:07:22.224371Z",
     "shell.execute_reply.started": "2021-11-10T11:07:16.707722Z"
    },
    "trusted": true
   },
   "outputs": [],
   "source": [
    "data = pd.read_csv(path + \"icml_face_data.csv\")"
   ]
  },
  {
   "cell_type": "code",
   "execution_count": null,
   "metadata": {
    "execution": {
     "iopub.execute_input": "2021-11-10T11:07:22.227335Z",
     "iopub.status.busy": "2021-11-10T11:07:22.226923Z",
     "iopub.status.idle": "2021-11-10T11:07:22.250631Z",
     "shell.execute_reply": "2021-11-10T11:07:22.24973Z",
     "shell.execute_reply.started": "2021-11-10T11:07:22.227295Z"
    },
    "trusted": true
   },
   "outputs": [],
   "source": [
    "data.head()"
   ]
  },
  {
   "cell_type": "markdown",
   "metadata": {},
   "source": [
    "# <h1 style='background:#CCCCCC; border:0; color:black'><center><span style=\"color: royalblue;\"><span style=\"color: royalblue;\">Functions</span></span></center></h1> \n",
    "We define some helper functions for preparing and ploting the data."
   ]
  },
  {
   "cell_type": "code",
   "execution_count": null,
   "metadata": {
    "_kg_hide-input": true,
    "execution": {
     "iopub.execute_input": "2021-11-10T11:07:22.25489Z",
     "iopub.status.busy": "2021-11-10T11:07:22.254576Z",
     "iopub.status.idle": "2021-11-10T11:07:22.287079Z",
     "shell.execute_reply": "2021-11-10T11:07:22.286126Z",
     "shell.execute_reply.started": "2021-11-10T11:07:22.254858Z"
    },
    "trusted": true
   },
   "outputs": [],
   "source": [
    "def prepare_data(data):\n",
    "    \"\"\"Prepare data for modeling\n",
    "    input: data frame with labels und pixel data\n",
    "    output: image and label array\"\"\"\n",
    "\n",
    "    image_array = np.zeros(shape=(len(data), 48, 48))\n",
    "    image_label = np.array(list(map(int, data[\"emotion\"])))\n",
    "\n",
    "    for i, row in enumerate(data.index):\n",
    "        image = np.fromstring(data.loc[row, \" pixels\"], dtype=int, sep=\" \")\n",
    "        image = np.reshape(image, (48, 48))\n",
    "        image_array[i] = image\n",
    "\n",
    "    return image_array, image_label\n",
    "\n",
    "\n",
    "def plot_examples(label=0):\n",
    "    fig, axs = plt.subplots(1, 5, figsize=(25, 12))\n",
    "    fig.subplots_adjust(hspace=0.2, wspace=0.2)\n",
    "    axs = axs.ravel()\n",
    "    for i in range(5):\n",
    "        idx = data[data[\"emotion\"] == label].index[i]\n",
    "        axs[i].imshow(train_images[idx][:, :, 0], cmap=\"gray\")\n",
    "        axs[i].set_title(emotions[train_labels[idx].argmax()])\n",
    "        axs[i].set_xticklabels([])\n",
    "        axs[i].set_yticklabels([])\n",
    "\n",
    "\n",
    "def plot_all_emotions():\n",
    "    fig, axs = plt.subplots(1, 7, figsize=(30, 12))\n",
    "    fig.subplots_adjust(hspace=0.2, wspace=0.2)\n",
    "    axs = axs.ravel()\n",
    "    for i in range(7):\n",
    "        idx = data[data[\"emotion\"] == i].index[i]\n",
    "        axs[i].imshow(train_images[idx][:, :, 0], cmap=\"gray\")\n",
    "        axs[i].set_title(emotions[train_labels[idx].argmax()])\n",
    "        axs[i].set_xticklabels([])\n",
    "        axs[i].set_yticklabels([])\n",
    "\n",
    "\n",
    "def plot_image_and_emotion(\n",
    "    test_image_array, test_image_label, pred_test_labels, image_number\n",
    "):\n",
    "    \"\"\"Function to plot the image and compare the prediction results with the label\"\"\"\n",
    "\n",
    "    fig, axs = plt.subplots(1, 2, figsize=(12, 6), sharey=False)\n",
    "\n",
    "    bar_label = emotions.values()\n",
    "\n",
    "    axs[0].imshow(test_image_array[image_number], \"gray\")\n",
    "    axs[0].set_title(emotions[test_image_label[image_number]])\n",
    "\n",
    "    axs[1].bar(bar_label, pred_test_labels[image_number], color=\"orange\", alpha=0.7)\n",
    "    axs[1].grid()\n",
    "\n",
    "    plt.show()\n",
    "\n",
    "\n",
    "def plot_compare_distributions(array1, array2, title1=\"\", title2=\"\"):\n",
    "    df_array1 = pd.DataFrame()\n",
    "    df_array2 = pd.DataFrame()\n",
    "    df_array1[\"emotion\"] = array1.argmax(axis=1)\n",
    "    df_array2[\"emotion\"] = array2.argmax(axis=1)\n",
    "\n",
    "    fig, axs = plt.subplots(1, 2, figsize=(12, 6), sharey=False)\n",
    "    x = emotions.values()\n",
    "\n",
    "    y = df_array1[\"emotion\"].value_counts()\n",
    "    keys_missed = list(set(emotions.keys()).difference(set(y.keys())))\n",
    "    for key_missed in keys_missed:\n",
    "        y[key_missed] = 0\n",
    "    axs[0].bar(x, y.sort_index(), color=\"orange\")\n",
    "    axs[0].set_title(title1)\n",
    "    axs[0].grid()\n",
    "\n",
    "    y = df_array2[\"emotion\"].value_counts()\n",
    "    keys_missed = list(set(emotions.keys()).difference(set(y.keys())))\n",
    "    for key_missed in keys_missed:\n",
    "        y[key_missed] = 0\n",
    "    axs[1].bar(x, y.sort_index())\n",
    "    axs[1].set_title(title2)\n",
    "    axs[1].grid()\n",
    "\n",
    "    plt.show()"
   ]
  },
  {
   "cell_type": "markdown",
   "metadata": {},
   "source": [
    "# <h1 style='background:#CCCCCC; border:0; color:black'><center><span style=\"color: royalblue;\"><span style=\"color: royalblue;\">Overview</span></span></center></h1> "
   ]
  },
  {
   "cell_type": "code",
   "execution_count": null,
   "metadata": {
    "_kg_hide-input": true,
    "execution": {
     "iopub.execute_input": "2021-11-10T11:07:22.290211Z",
     "iopub.status.busy": "2021-11-10T11:07:22.289659Z",
     "iopub.status.idle": "2021-11-10T11:07:22.315867Z",
     "shell.execute_reply": "2021-11-10T11:07:22.314881Z",
     "shell.execute_reply.started": "2021-11-10T11:07:22.290178Z"
    },
    "trusted": true
   },
   "outputs": [],
   "source": [
    "data[\" Usage\"].value_counts()"
   ]
  },
  {
   "cell_type": "markdown",
   "metadata": {},
   "source": [
    "# <h1 style='background:#CCCCCC; border:0; color:black'><center><span style=\"color: royalblue;\"><span style=\"color: royalblue;\">Prepare Data</span></span></center></h1> "
   ]
  },
  {
   "cell_type": "code",
   "execution_count": null,
   "metadata": {
    "execution": {
     "iopub.execute_input": "2021-11-10T11:07:22.318068Z",
     "iopub.status.busy": "2021-11-10T11:07:22.317508Z",
     "iopub.status.idle": "2021-11-10T11:07:22.326597Z",
     "shell.execute_reply": "2021-11-10T11:07:22.325444Z",
     "shell.execute_reply.started": "2021-11-10T11:07:22.318023Z"
    },
    "trusted": true
   },
   "outputs": [],
   "source": [
    "emotions = {\n",
    "    0: \"Angry\",\n",
    "    1: \"Disgust\",\n",
    "    2: \"Fear\",\n",
    "    3: \"Happy\",\n",
    "    4: \"Sad\",\n",
    "    5: \"Surprise\",\n",
    "    6: \"Neutral\",\n",
    "}"
   ]
  },
  {
   "cell_type": "markdown",
   "metadata": {},
   "source": [
    "Define training, validation and test data:"
   ]
  },
  {
   "cell_type": "code",
   "execution_count": null,
   "metadata": {
    "_kg_hide-input": true,
    "execution": {
     "iopub.execute_input": "2021-11-10T11:07:22.328601Z",
     "iopub.status.busy": "2021-11-10T11:07:22.328202Z",
     "iopub.status.idle": "2021-11-10T11:07:26.817599Z",
     "shell.execute_reply": "2021-11-10T11:07:26.816672Z",
     "shell.execute_reply.started": "2021-11-10T11:07:22.328544Z"
    },
    "trusted": true
   },
   "outputs": [],
   "source": [
    "train_image_array, train_image_label = prepare_data(data[data[\" Usage\"] == \"Training\"])\n",
    "val_image_array, val_image_label = prepare_data(data[data[\" Usage\"] == \"PrivateTest\"])\n",
    "test_image_array, test_image_label = prepare_data(data[data[\" Usage\"] == \"PublicTest\"])"
   ]
  },
  {
   "cell_type": "markdown",
   "metadata": {},
   "source": [
    "Reshape and scale the images:"
   ]
  },
  {
   "cell_type": "code",
   "execution_count": null,
   "metadata": {
    "_kg_hide-input": true,
    "execution": {
     "iopub.execute_input": "2021-11-10T11:07:26.819696Z",
     "iopub.status.busy": "2021-11-10T11:07:26.8192Z",
     "iopub.status.idle": "2021-11-10T11:07:27.031118Z",
     "shell.execute_reply": "2021-11-10T11:07:27.030011Z",
     "shell.execute_reply.started": "2021-11-10T11:07:26.81965Z"
    },
    "trusted": true
   },
   "outputs": [],
   "source": [
    "train_images = train_image_array.reshape((train_image_array.shape[0], 48, 48, 1))\n",
    "train_images = train_images.astype(\"float32\") / 255\n",
    "val_images = val_image_array.reshape((val_image_array.shape[0], 48, 48, 1))\n",
    "val_images = val_images.astype(\"float32\") / 255\n",
    "test_images = test_image_array.reshape((test_image_array.shape[0], 48, 48, 1))\n",
    "test_images = test_images.astype(\"float32\") / 255"
   ]
  },
  {
   "cell_type": "markdown",
   "metadata": {},
   "source": [
    "Encoding of the target value:"
   ]
  },
  {
   "cell_type": "code",
   "execution_count": null,
   "metadata": {
    "_kg_hide-input": true,
    "execution": {
     "iopub.execute_input": "2021-11-10T11:07:27.033322Z",
     "iopub.status.busy": "2021-11-10T11:07:27.032758Z",
     "iopub.status.idle": "2021-11-10T11:07:27.040028Z",
     "shell.execute_reply": "2021-11-10T11:07:27.038794Z",
     "shell.execute_reply.started": "2021-11-10T11:07:27.033273Z"
    },
    "trusted": true
   },
   "outputs": [],
   "source": [
    "train_labels = to_categorical(train_image_label)\n",
    "val_labels = to_categorical(val_image_label)\n",
    "test_labels = to_categorical(test_image_label)"
   ]
  },
  {
   "cell_type": "markdown",
   "metadata": {},
   "source": [
    "# <h1 style='background:#CCCCCC; border:0; color:black'><center><span style=\"color: royalblue;\"><span style=\"color: royalblue;\">Some Examples</span></span></center></h1> "
   ]
  },
  {
   "cell_type": "markdown",
   "metadata": {},
   "source": [
    "## All Emotions"
   ]
  },
  {
   "cell_type": "code",
   "execution_count": null,
   "metadata": {
    "_kg_hide-input": true,
    "execution": {
     "iopub.execute_input": "2021-11-10T11:07:27.04206Z",
     "iopub.status.busy": "2021-11-10T11:07:27.041643Z",
     "iopub.status.idle": "2021-11-10T11:07:27.881425Z",
     "shell.execute_reply": "2021-11-10T11:07:27.880577Z",
     "shell.execute_reply.started": "2021-11-10T11:07:27.042017Z"
    },
    "trusted": true
   },
   "outputs": [],
   "source": [
    "plot_all_emotions()"
   ]
  },
  {
   "cell_type": "markdown",
   "metadata": {},
   "source": [
    "## Angry"
   ]
  },
  {
   "cell_type": "code",
   "execution_count": null,
   "metadata": {
    "_kg_hide-input": true,
    "execution": {
     "iopub.execute_input": "2021-11-10T11:07:27.882756Z",
     "iopub.status.busy": "2021-11-10T11:07:27.882474Z",
     "iopub.status.idle": "2021-11-10T11:07:28.442362Z",
     "shell.execute_reply": "2021-11-10T11:07:28.441382Z",
     "shell.execute_reply.started": "2021-11-10T11:07:27.882728Z"
    },
    "trusted": true
   },
   "outputs": [],
   "source": [
    "plot_examples(label=0)"
   ]
  },
  {
   "cell_type": "markdown",
   "metadata": {},
   "source": [
    "## Disgust"
   ]
  },
  {
   "cell_type": "code",
   "execution_count": null,
   "metadata": {
    "_kg_hide-input": true,
    "execution": {
     "iopub.execute_input": "2021-11-10T11:07:28.44439Z",
     "iopub.status.busy": "2021-11-10T11:07:28.443824Z",
     "iopub.status.idle": "2021-11-10T11:07:29.001711Z",
     "shell.execute_reply": "2021-11-10T11:07:29.000577Z",
     "shell.execute_reply.started": "2021-11-10T11:07:28.444347Z"
    },
    "trusted": true
   },
   "outputs": [],
   "source": [
    "plot_examples(label=1)"
   ]
  },
  {
   "cell_type": "markdown",
   "metadata": {},
   "source": [
    "## Fear"
   ]
  },
  {
   "cell_type": "code",
   "execution_count": null,
   "metadata": {
    "_kg_hide-input": true,
    "execution": {
     "iopub.execute_input": "2021-11-10T11:07:29.003758Z",
     "iopub.status.busy": "2021-11-10T11:07:29.003326Z",
     "iopub.status.idle": "2021-11-10T11:07:29.564496Z",
     "shell.execute_reply": "2021-11-10T11:07:29.563334Z",
     "shell.execute_reply.started": "2021-11-10T11:07:29.003715Z"
    },
    "trusted": true
   },
   "outputs": [],
   "source": [
    "plot_examples(label=2)"
   ]
  },
  {
   "cell_type": "markdown",
   "metadata": {},
   "source": [
    "## Happy"
   ]
  },
  {
   "cell_type": "code",
   "execution_count": null,
   "metadata": {
    "_kg_hide-input": true,
    "execution": {
     "iopub.execute_input": "2021-11-10T11:07:29.566436Z",
     "iopub.status.busy": "2021-11-10T11:07:29.566023Z",
     "iopub.status.idle": "2021-11-10T11:07:30.350406Z",
     "shell.execute_reply": "2021-11-10T11:07:30.349645Z",
     "shell.execute_reply.started": "2021-11-10T11:07:29.566393Z"
    },
    "trusted": true
   },
   "outputs": [],
   "source": [
    "plot_examples(label=3)"
   ]
  },
  {
   "cell_type": "markdown",
   "metadata": {},
   "source": [
    "\n",
    "## Sad"
   ]
  },
  {
   "cell_type": "code",
   "execution_count": null,
   "metadata": {
    "_kg_hide-input": true,
    "execution": {
     "iopub.execute_input": "2021-11-10T11:07:30.352411Z",
     "iopub.status.busy": "2021-11-10T11:07:30.351822Z",
     "iopub.status.idle": "2021-11-10T11:07:30.946912Z",
     "shell.execute_reply": "2021-11-10T11:07:30.945884Z",
     "shell.execute_reply.started": "2021-11-10T11:07:30.352365Z"
    },
    "trusted": true
   },
   "outputs": [],
   "source": [
    "plot_examples(label=4)"
   ]
  },
  {
   "cell_type": "markdown",
   "metadata": {},
   "source": [
    "## Surprise"
   ]
  },
  {
   "cell_type": "code",
   "execution_count": null,
   "metadata": {
    "_kg_hide-input": true,
    "execution": {
     "iopub.execute_input": "2021-11-10T11:07:30.948994Z",
     "iopub.status.busy": "2021-11-10T11:07:30.948382Z",
     "iopub.status.idle": "2021-11-10T11:07:31.511264Z",
     "shell.execute_reply": "2021-11-10T11:07:31.510149Z",
     "shell.execute_reply.started": "2021-11-10T11:07:30.948947Z"
    },
    "trusted": true
   },
   "outputs": [],
   "source": [
    "plot_examples(label=5)"
   ]
  },
  {
   "cell_type": "markdown",
   "metadata": {},
   "source": [
    "## Neutral"
   ]
  },
  {
   "cell_type": "code",
   "execution_count": null,
   "metadata": {
    "_kg_hide-input": true,
    "execution": {
     "iopub.execute_input": "2021-11-10T11:07:31.51345Z",
     "iopub.status.busy": "2021-11-10T11:07:31.51284Z",
     "iopub.status.idle": "2021-11-10T11:07:32.083752Z",
     "shell.execute_reply": "2021-11-10T11:07:32.082796Z",
     "shell.execute_reply.started": "2021-11-10T11:07:31.513405Z"
    },
    "trusted": true
   },
   "outputs": [],
   "source": [
    "plot_examples(label=6)"
   ]
  },
  {
   "cell_type": "markdown",
   "metadata": {},
   "source": [
    "# <h1 style='background:#CCCCCC; border:0; color:black'><center><span style=\"color: royalblue;\"><span style=\"color: royalblue;\">Distribution Of Labels</span></span></center></h1> "
   ]
  },
  {
   "cell_type": "code",
   "execution_count": null,
   "metadata": {
    "_kg_hide-input": true,
    "execution": {
     "iopub.execute_input": "2021-11-10T11:07:32.085437Z",
     "iopub.status.busy": "2021-11-10T11:07:32.085129Z",
     "iopub.status.idle": "2021-11-10T11:07:32.356236Z",
     "shell.execute_reply": "2021-11-10T11:07:32.355275Z",
     "shell.execute_reply.started": "2021-11-10T11:07:32.085406Z"
    },
    "trusted": true
   },
   "outputs": [],
   "source": [
    "plot_compare_distributions(\n",
    "    train_labels, val_labels, title1=\"train labels\", title2=\"val labels\"\n",
    ")"
   ]
  },
  {
   "cell_type": "markdown",
   "metadata": {},
   "source": [
    "# <h1 style='background:#CCCCCC; border:0; color:black'><center><span style=\"color: royalblue;\"><span style=\"color: royalblue;\">Class Weights</span></span></center></h1> \n",
    "Calculate the class weights of the label distribution:"
   ]
  },
  {
   "cell_type": "code",
   "execution_count": null,
   "metadata": {
    "_kg_hide-input": true,
    "execution": {
     "iopub.execute_input": "2021-11-10T11:07:32.358117Z",
     "iopub.status.busy": "2021-11-10T11:07:32.357804Z",
     "iopub.status.idle": "2021-11-10T11:07:32.38428Z",
     "shell.execute_reply": "2021-11-10T11:07:32.383466Z",
     "shell.execute_reply.started": "2021-11-10T11:07:32.358086Z"
    },
    "trusted": true
   },
   "outputs": [],
   "source": [
    "class_weight = dict(\n",
    "    zip(\n",
    "        range(0, 7),\n",
    "        (\n",
    "            (\n",
    "                (\n",
    "                    data[data[\" Usage\"] == \"Training\"][\"emotion\"].value_counts()\n",
    "                ).sort_index()\n",
    "            )\n",
    "            / len(data[data[\" Usage\"] == \"Training\"][\"emotion\"])\n",
    "        ).tolist(),\n",
    "    )\n",
    ")"
   ]
  },
  {
   "cell_type": "code",
   "execution_count": null,
   "metadata": {
    "execution": {
     "iopub.execute_input": "2021-11-10T11:07:32.386031Z",
     "iopub.status.busy": "2021-11-10T11:07:32.385534Z",
     "iopub.status.idle": "2021-11-10T11:07:32.391625Z",
     "shell.execute_reply": "2021-11-10T11:07:32.390751Z",
     "shell.execute_reply.started": "2021-11-10T11:07:32.385999Z"
    },
    "trusted": true
   },
   "outputs": [],
   "source": [
    "class_weight"
   ]
  },
  {
   "cell_type": "markdown",
   "metadata": {},
   "source": [
    "# <h1 style='background:#CCCCCC; border:0; color:black'><center><span style=\"color: royalblue;\"><span style=\"color: royalblue;\">Model</span></span></center></h1> \n",
    "We define a simple CNN model:"
   ]
  },
  {
   "cell_type": "code",
   "execution_count": null,
   "metadata": {
    "execution": {
     "iopub.execute_input": "2021-11-10T11:07:32.393504Z",
     "iopub.status.busy": "2021-11-10T11:07:32.392933Z",
     "iopub.status.idle": "2021-11-10T11:07:32.539514Z",
     "shell.execute_reply": "2021-11-10T11:07:32.538483Z",
     "shell.execute_reply.started": "2021-11-10T11:07:32.393462Z"
    },
    "trusted": true
   },
   "outputs": [],
   "source": [
    "model = models.Sequential()\n",
    "model.add(Conv2D(32, (3, 3), activation=\"relu\", input_shape=(48, 48, 1)))\n",
    "model.add(MaxPool2D((2, 2)))\n",
    "model.add(Conv2D(64, (3, 3), activation=\"relu\"))\n",
    "model.add(MaxPool2D((2, 2)))\n",
    "model.add(Conv2D(64, (3, 3), activation=\"relu\"))\n",
    "model.add(Flatten())\n",
    "model.add(Dense(64, activation=\"relu\"))\n",
    "model.add(Dense(7, activation=\"softmax\"))"
   ]
  },
  {
   "cell_type": "code",
   "execution_count": null,
   "metadata": {
    "execution": {
     "iopub.execute_input": "2021-11-10T11:07:32.541459Z",
     "iopub.status.busy": "2021-11-10T11:07:32.541023Z",
     "iopub.status.idle": "2021-11-10T11:07:32.555421Z",
     "shell.execute_reply": "2021-11-10T11:07:32.554608Z",
     "shell.execute_reply.started": "2021-11-10T11:07:32.541416Z"
    },
    "trusted": true
   },
   "outputs": [],
   "source": [
    "model.compile(\n",
    "    optimizer=Adam(lr=1e-3), loss=\"categorical_crossentropy\", metrics=[\"accuracy\"]\n",
    ")"
   ]
  },
  {
   "cell_type": "code",
   "execution_count": null,
   "metadata": {
    "execution": {
     "iopub.execute_input": "2021-11-10T11:07:32.556792Z",
     "iopub.status.busy": "2021-11-10T11:07:32.556471Z",
     "iopub.status.idle": "2021-11-10T11:07:32.569099Z",
     "shell.execute_reply": "2021-11-10T11:07:32.56814Z",
     "shell.execute_reply.started": "2021-11-10T11:07:32.556763Z"
    },
    "trusted": true
   },
   "outputs": [],
   "source": [
    "model.summary()"
   ]
  },
  {
   "cell_type": "code",
   "execution_count": null,
   "metadata": {
    "execution": {
     "iopub.execute_input": "2021-11-10T11:07:32.572957Z",
     "iopub.status.busy": "2021-11-10T11:07:32.572699Z",
     "iopub.status.idle": "2021-11-10T11:16:02.097874Z",
     "shell.execute_reply": "2021-11-10T11:16:02.097009Z",
     "shell.execute_reply.started": "2021-11-10T11:07:32.572931Z"
    },
    "trusted": true
   },
   "outputs": [],
   "source": [
    "history = model.fit(\n",
    "    train_images,\n",
    "    train_labels,\n",
    "    validation_data=(val_images, val_labels),\n",
    "    class_weight=class_weight,\n",
    "    epochs=12,\n",
    "    batch_size=64,\n",
    ")"
   ]
  },
  {
   "cell_type": "code",
   "execution_count": null,
   "metadata": {
    "execution": {
     "iopub.execute_input": "2021-11-10T11:16:02.099895Z",
     "iopub.status.busy": "2021-11-10T11:16:02.099515Z",
     "iopub.status.idle": "2021-11-10T11:16:03.633601Z",
     "shell.execute_reply": "2021-11-10T11:16:03.632773Z",
     "shell.execute_reply.started": "2021-11-10T11:16:02.099863Z"
    },
    "trusted": true
   },
   "outputs": [],
   "source": [
    "test_loss, test_acc = model.evaluate(test_images, test_labels)\n",
    "print(\"test caccuracy:\", test_acc)"
   ]
  },
  {
   "cell_type": "code",
   "execution_count": null,
   "metadata": {
    "execution": {
     "iopub.execute_input": "2021-11-10T11:16:03.63605Z",
     "iopub.status.busy": "2021-11-10T11:16:03.635636Z",
     "iopub.status.idle": "2021-11-10T11:16:05.185323Z",
     "shell.execute_reply": "2021-11-10T11:16:05.184265Z",
     "shell.execute_reply.started": "2021-11-10T11:16:03.636007Z"
    },
    "trusted": true
   },
   "outputs": [],
   "source": [
    "pred_test_labels = model.predict(test_images)"
   ]
  },
  {
   "cell_type": "markdown",
   "metadata": {},
   "source": [
    "# <h1 style='background:#CCCCCC; border:0; color:black'><center><span style=\"color: royalblue;\"><span style=\"color: royalblue;\">Analyse Convergence</span></span></center></h1> "
   ]
  },
  {
   "cell_type": "code",
   "execution_count": null,
   "metadata": {
    "_kg_hide-input": true,
    "execution": {
     "iopub.execute_input": "2021-11-10T11:16:05.187381Z",
     "iopub.status.busy": "2021-11-10T11:16:05.186859Z",
     "iopub.status.idle": "2021-11-10T11:16:05.373905Z",
     "shell.execute_reply": "2021-11-10T11:16:05.373049Z",
     "shell.execute_reply.started": "2021-11-10T11:16:05.187328Z"
    },
    "trusted": true
   },
   "outputs": [],
   "source": [
    "loss = history.history[\"loss\"]\n",
    "loss_val = history.history[\"val_loss\"]\n",
    "epochs = range(1, len(loss) + 1)\n",
    "plt.plot(epochs, loss, \"bo\", label=\"loss_train\")\n",
    "plt.plot(epochs, loss_val, \"b\", label=\"loss_val\")\n",
    "plt.title(\"value of the loss function\")\n",
    "plt.xlabel(\"epochs\")\n",
    "plt.ylabel(\"value of the loss function\")\n",
    "plt.legend()\n",
    "plt.grid()\n",
    "plt.show()"
   ]
  },
  {
   "cell_type": "code",
   "execution_count": null,
   "metadata": {
    "_kg_hide-input": true,
    "execution": {
     "iopub.execute_input": "2021-11-10T11:16:05.375548Z",
     "iopub.status.busy": "2021-11-10T11:16:05.375117Z",
     "iopub.status.idle": "2021-11-10T11:16:05.557377Z",
     "shell.execute_reply": "2021-11-10T11:16:05.556643Z",
     "shell.execute_reply.started": "2021-11-10T11:16:05.375518Z"
    },
    "trusted": true
   },
   "outputs": [],
   "source": [
    "acc = history.history[\"accuracy\"]\n",
    "acc_val = history.history[\"val_accuracy\"]\n",
    "epochs = range(1, len(loss) + 1)\n",
    "plt.plot(epochs, acc, \"bo\", label=\"accuracy_train\")\n",
    "plt.plot(epochs, acc_val, \"b\", label=\"accuracy_val\")\n",
    "plt.title(\"accuracy\")\n",
    "plt.xlabel(\"epochs\")\n",
    "plt.ylabel(\"value of accuracy\")\n",
    "plt.legend()\n",
    "plt.grid()\n",
    "plt.show()"
   ]
  },
  {
   "cell_type": "markdown",
   "metadata": {},
   "source": [
    "# <h1 style='background:#CCCCCC; border:0; color:black'><center><span style=\"color: royalblue;\"><span style=\"color: royalblue;\">Analyse Results</span></span></center></h1> "
   ]
  },
  {
   "cell_type": "code",
   "execution_count": null,
   "metadata": {
    "_kg_hide-input": true,
    "execution": {
     "iopub.execute_input": "2021-11-10T11:16:05.558971Z",
     "iopub.status.busy": "2021-11-10T11:16:05.558495Z",
     "iopub.status.idle": "2021-11-10T11:16:05.84033Z",
     "shell.execute_reply": "2021-11-10T11:16:05.839614Z",
     "shell.execute_reply.started": "2021-11-10T11:16:05.558938Z"
    },
    "trusted": true
   },
   "outputs": [],
   "source": [
    "plot_image_and_emotion(test_image_array, test_image_label, pred_test_labels, 106)"
   ]
  },
  {
   "cell_type": "code",
   "execution_count": null,
   "metadata": {
    "_kg_hide-input": true,
    "execution": {
     "iopub.execute_input": "2021-11-10T11:16:05.841883Z",
     "iopub.status.busy": "2021-11-10T11:16:05.841438Z",
     "iopub.status.idle": "2021-11-10T11:16:06.110536Z",
     "shell.execute_reply": "2021-11-10T11:16:06.10967Z",
     "shell.execute_reply.started": "2021-11-10T11:16:05.841853Z"
    },
    "trusted": true
   },
   "outputs": [],
   "source": [
    "plot_image_and_emotion(test_image_array, test_image_label, pred_test_labels, 40)"
   ]
  },
  {
   "cell_type": "code",
   "execution_count": null,
   "metadata": {
    "_kg_hide-input": true,
    "execution": {
     "iopub.execute_input": "2021-11-10T11:16:06.114747Z",
     "iopub.status.busy": "2021-11-10T11:16:06.114432Z",
     "iopub.status.idle": "2021-11-10T11:16:06.585365Z",
     "shell.execute_reply": "2021-11-10T11:16:06.584348Z",
     "shell.execute_reply.started": "2021-11-10T11:16:06.114715Z"
    },
    "trusted": true
   },
   "outputs": [],
   "source": [
    "plot_compare_distributions(\n",
    "    test_labels, pred_test_labels, title1=\"test labels\", title2=\"predict labels\"\n",
    ")"
   ]
  },
  {
   "cell_type": "markdown",
   "metadata": {},
   "source": [
    "# <h1 style='background:#CCCCCC; border:0; color:black'><center><span style=\"color: royalblue;\"><span style=\"color: royalblue;\">Analyse Wrong Prediction</span></span></center></h1> \n",
    "The accuracy score is about 54% on the test set. So it is obvious to take focus on the wrong predictions. We want to extract details to improve the model."
   ]
  },
  {
   "cell_type": "code",
   "execution_count": null,
   "metadata": {
    "_kg_hide-input": true,
    "execution": {
     "iopub.execute_input": "2021-11-10T11:16:06.587665Z",
     "iopub.status.busy": "2021-11-10T11:16:06.587066Z",
     "iopub.status.idle": "2021-11-10T11:16:06.599242Z",
     "shell.execute_reply": "2021-11-10T11:16:06.597922Z",
     "shell.execute_reply.started": "2021-11-10T11:16:06.58762Z"
    },
    "trusted": true
   },
   "outputs": [],
   "source": [
    "df_compare = pd.DataFrame()\n",
    "df_compare[\"real\"] = test_labels.argmax(axis=1)\n",
    "df_compare[\"pred\"] = pred_test_labels.argmax(axis=1)\n",
    "df_compare[\"wrong\"] = np.where(df_compare[\"real\"] != df_compare[\"pred\"], 1, 0)"
   ]
  },
  {
   "cell_type": "code",
   "execution_count": null,
   "metadata": {
    "_kg_hide-input": true,
    "execution": {
     "iopub.execute_input": "2021-11-10T11:16:06.601079Z",
     "iopub.status.busy": "2021-11-10T11:16:06.600654Z",
     "iopub.status.idle": "2021-11-10T11:16:06.877538Z",
     "shell.execute_reply": "2021-11-10T11:16:06.876531Z",
     "shell.execute_reply.started": "2021-11-10T11:16:06.601033Z"
    },
    "trusted": true
   },
   "outputs": [],
   "source": [
    "conf_mat = confusion_matrix(test_labels.argmax(axis=1), pred_test_labels.argmax(axis=1))\n",
    "\n",
    "fig, ax = plot_confusion_matrix(\n",
    "    conf_mat=conf_mat,\n",
    "    show_normed=True,\n",
    "    show_absolute=False,\n",
    "    class_names=emotions.values(),\n",
    "    figsize=(8, 8),\n",
    ")\n",
    "fig.show()"
   ]
  },
  {
   "cell_type": "code",
   "execution_count": null,
   "metadata": {},
   "outputs": [],
   "source": [
    "# Save model architecture and weights\n",
    "model_json = model.to_json()\n",
    "with open(\"emotion_cnn_model.json\", \"w\") as json_file:\n",
    "    json_file.write(model_json)\n",
    "model.save_weights(\"emotion_cnn_weights.h5\")"
   ]
  }
 ],
 "metadata": {
  "kaggle": {
   "accelerator": "none",
   "dataSources": [
    {
     "databundleVersionId": 31151,
     "sourceId": 3364,
     "sourceType": "competition"
    },
    {
     "datasetId": 313412,
     "sourceId": 1878760,
     "sourceType": "datasetVersion"
    }
   ],
   "dockerImageVersionId": 30017,
   "isGpuEnabled": false,
   "isInternetEnabled": true,
   "language": "python",
   "sourceType": "notebook"
  },
  "kernelspec": {
   "display_name": "Python 3",
   "language": "python",
   "name": "python3"
  },
  "language_info": {
   "codemirror_mode": {
    "name": "ipython",
    "version": 3
   },
   "file_extension": ".py",
   "mimetype": "text/x-python",
   "name": "python",
   "nbconvert_exporter": "python",
   "pygments_lexer": "ipython3",
   "version": "3.6.4"
  }
 },
 "nbformat": 4,
 "nbformat_minor": 4
}
